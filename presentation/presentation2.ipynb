{
 "cells": [
  {
   "cell_type": "markdown",
   "metadata": {
    "slideshow": {
     "slide_type": "slide"
    }
   },
   "source": [
    "# Data Science for Drug Discovery\n",
    "### _Can we use machine learning to help discover new drugs that target COVID-19?_\n",
    "\n",
    "In this presentation, we have used data from the Covid [Moonshot](https://postera.ai/moonshot) project to develop machine learning models for the virtual screening of ligands to inhibit SARS-CoV-2 main protease."
   ]
  },
  {
   "cell_type": "markdown",
   "metadata": {
    "slideshow": {
     "slide_type": "subslide"
    }
   },
   "source": [
    "\n",
    "## Introduction to SARS-CoV-2 M<sup>pro</sup>\n",
    "\n",
    "SARS-CoV-2 is a positive-sense, single-stranded RNA coronavirus with a large (30,000 base) genome. This genome acts just like a messenger RNA when it infects a cell, and directs the synthesis of two long polyproteins that include the machinery that the virus needs to replicate new viruses. These proteins include a replication/transcription complex that makes more RNA, several structural proteins that construct new virions, and two proteases. The proteases play essential roles in cutting the polyproteins into all of these functional pieces.\n"
   ]
  },
  {
   "cell_type": "markdown",
   "metadata": {
    "slideshow": {
     "slide_type": "subslide"
    }
   },
   "source": [
    "### Main Protease\n",
    "\n",
    "The main protease of coronavirus makes most of these cuts. The one shown here (PDB entry 6lu7) is from the SARS-CoV-2 (2019-nCoV) coronavirus that is currently posing dangers in Wuhan. It is a dimer of two identical subunits that together form two active sites. This structure has a peptide-like inhibitor bound in the active site.\n",
    "\n",
    "![Coronavirus Protease, with Inhibitor](Coronavirus_Proteases.jpg \"Coronavirus Protease, with Inhibitor\")\n"
   ]
  },
  {
   "cell_type": "markdown",
   "metadata": {
    "slideshow": {
     "slide_type": "subslide"
    }
   },
   "source": [
    "## COVID Moonshot project\n",
    "\n",
    "* Research to develop a globally accessible antiviral pill for COVID\n",
    "* Provides activity data for a range of small molecule targets\n",
    "\n",
    "![Moonshot Webpage](moonshot.png)\n"
   ]
  },
  {
   "cell_type": "code",
   "execution_count": 3,
   "metadata": {
    "slideshow": {
     "slide_type": "subslide"
    }
   },
   "outputs": [],
   "source": [
    "# Relevant imports (Global)\n",
    "\n",
    "import pandas as pd\n",
    "import numpy as np\n",
    "import matplotlib.pyplot as plt\n",
    "\n",
    "import rdkit.Chem as Chem\n",
    "from rdkit.Chem import Descriptors\n",
    "from rdkit.Chem import AllChem\n",
    "from rdkit.Chem import Draw\n",
    "\n"
   ]
  },
  {
   "cell_type": "code",
   "execution_count": 4,
   "metadata": {
    "slideshow": {
     "slide_type": "fragment"
    }
   },
   "outputs": [],
   "source": [
    "# Relevant imports (Local)\n",
    "\n",
    "import sys\n",
    "sys.path.append(\"..\")\n",
    "\n",
    "import importer\n",
    "import analyser\n",
    "from analysis_methods import AnalysisMethods"
   ]
  },
  {
   "cell_type": "markdown",
   "metadata": {
    "slideshow": {
     "slide_type": "slide"
    }
   },
   "source": [
    "## Importing the Data\n",
    "### SQL Methods\n",
    "\n",
    "* Collect binding data from COVID Moonshot project\n",
    "* Create and populate new database \n",
    "* Construct a relational database to enable querying of the data"
   ]
  },
  {
   "cell_type": "code",
   "execution_count": 5,
   "metadata": {
    "slideshow": {
     "slide_type": "subslide"
    }
   },
   "outputs": [],
   "source": [
    "# Creates a relational database from the binding data\n",
    "\n",
    "# Methods here do not use full input sanitisation and may be vulnerable to SQL injection attacks, however\n",
    "# this script is designed for internal use only.\n",
    "\n",
    "import sqlite3\n",
    "from sqlite3 import Error\n",
    "\n",
    "\n",
    "def create_connection(db_file):\n",
    "    \"\"\" create a database connection to the SQLite database\n",
    "        specified by db_file\n",
    "    :param db_file: database file\n",
    "    :return: Connection object or None\n",
    "    \"\"\"\n",
    "    conn = None\n",
    "    try:\n",
    "        conn = sqlite3.connect(db_file)\n",
    "    except Error as e:\n",
    "        print(e)\n",
    "    return conn\n",
    "\n",
    "def delete_molecule(conn, id):\n",
    "    \"\"\"\n",
    "    Delete a molecule by molecule id\n",
    "    :param conn:  Connection to the SQLite database\n",
    "    :param id: id of the molecule\n",
    "    :return:\n",
    "    \"\"\"\n",
    "    sql = 'DELETE FROM assays WHERE id=?'\n",
    "    cur = conn.cursor()\n",
    "    cur.execute(sql, (id,))\n",
    "    conn.commit()"
   ]
  },
  {
   "cell_type": "code",
   "execution_count": 6,
   "metadata": {
    "slideshow": {
     "slide_type": "subslide"
    }
   },
   "outputs": [],
   "source": [
    "def print_head(conn, table):\n",
    "    \"\"\"\n",
    "    Print head of table (internal conversion to csv)\n",
    "    :param conn:  Connection to the SQLite database\n",
    "    :param table: Name of table within open database\n",
    "    :return:\n",
    "    \"\"\"\n",
    "    sql = \"SELECT * from {}\".format(table)  # Not secure - see header\n",
    "    df = pd.read_sql_query(sql, conn)\n",
    "    print(df.head())\n",
    "\n",
    "def find_columns(conn, table):\n",
    "    \"\"\"\n",
    "    Return columns of table (internal conversion to csv)\n",
    "    :param conn:  Connection to the SQLite database\n",
    "    :param table: Name of table within open database\n",
    "    :return:\n",
    "    \"\"\"\n",
    "    sql = \"SELECT * from {}\".format(table)  # Not secure - see header\n",
    "    df = pd.read_sql_query(sql, conn)\n",
    "    return df.columns.values"
   ]
  },
  {
   "cell_type": "code",
   "execution_count": 7,
   "metadata": {
    "slideshow": {
     "slide_type": "subslide"
    }
   },
   "outputs": [],
   "source": [
    "def connect_tables(conn, table_1, key_1, table_2):\n",
    "    \"\"\"\n",
    "    Connect two tables within database - Adds the primary\n",
    "    key in table_1 as foreign key in table 2. This requires\n",
    "    creation of a new table in sqlite.\n",
    "\n",
    "    :param conn:  Connection to the SQLite database\n",
    "    :param table_1: Name of parent table\n",
    "    :param key_1:   Name of column in table_1 to use as foreign key\n",
    "    :param table_2: Name of child table\n",
    "    :return:\n",
    "    \"\"\"\n",
    "    cur = conn.cursor()\n",
    "    cur.execute(\"PRAGMA foreign_keys = off;\")  \n",
    "    cur.execute(\"BEGIN TRANSACTION;\")\n",
    "\n",
    "    # Rename table\n",
    "    cur.execute(\"DROP TABLE IF EXISTS _old_t\") # for protection in case clean up not reached\n",
    "    rename_sql = \"ALTER TABLE {} RENAME TO {};\".format(table_2, '_old_t')\n",
    "    cur.execute(rename_sql)\n",
    "\n",
    "    # Create new table with foreign key\n",
    "    table_2_titles = \", \".join(find_columns(conn, '_old_t'))\n",
    "    table_2_titles += \", {} VARCHAR\".format(key_1)  # For foreign key column\n",
    "    create_sql = (\"CREATE TABLE {2} ({3}, CONSTRAINT FK_{0} FOREIGN KEY ({0}) REFERENCES {1} ({0}));\"\n",
    "        .format(key_1, table_1, table_2, table_2_titles))\n",
    "    cur.execute(create_sql)\n",
    "\n",
    "    # Add foreign key data to import table\n",
    "    add_sql_a = \"ALTER TABLE _old_t ADD {};\".format(key_1)\n",
    "    add_sql_b = \"INSERT INTO _old_t ({0}) SELECT {0} FROM {1};\".format(key_1, table_1)\n",
    "    cur.execute(add_sql_a)\n",
    "    cur.execute(add_sql_b)\n",
    "    \n",
    "    # Copy data into new table\n",
    "    insert_sql = \"INSERT INTO {} SELECT * FROM _old_t;\".format(table_2)\n",
    "    cur.execute(insert_sql)\n",
    "\n",
    "    # Delete temporary table\n",
    "    cur.execute(\"DROP TABLE IF EXISTS _old_t\")\n",
    "\n",
    "    conn.commit()\n",
    "    cur.execute(\"PRAGMA foreign_keys=on;\")\n",
    "    return table_2"
   ]
  },
  {
   "cell_type": "code",
   "execution_count": 8,
   "metadata": {
    "slideshow": {
     "slide_type": "subslide"
    }
   },
   "outputs": [],
   "source": [
    "def main():\n",
    "    input_data = \"data/activity_data.csv\"\n",
    "    database = \"sqlite/db/activity.db\"\n",
    "\n",
    "    # Read in data\n",
    "    df = pd.read_csv(input_data)\n",
    "\n",
    "    # Create a database connection\n",
    "    conn = create_connection(database)\n",
    "\n",
    "    with conn:\n",
    "        # Create assays table\n",
    "        df.drop(['SMILES'], axis = 1).to_sql('assays', conn, if_exists='replace', index=False)\n",
    "\n",
    "        # Create compounds table\n",
    "        df['SMILES'].to_sql('compounds', conn, if_exists='replace', index=False)\n",
    "        connect_tables(conn, 'compounds', 'SMILES', 'assays')\n",
    "        \n",
    "        # Test output from database\n",
    "        print_head(conn, 'assays')\n",
    "\n",
    "    # Close connection if still open (fail-safe)\n",
    "    conn.close\n",
    "\n",
    "# if __name__ == '__main__':\n",
    "#     main()"
   ]
  },
  {
   "cell_type": "markdown",
   "metadata": {
    "slideshow": {
     "slide_type": "subslide"
    }
   },
   "source": [
    "### Pandas Dataframe\n",
    "This "
   ]
  },
  {
   "cell_type": "code",
   "execution_count": 9,
   "metadata": {
    "slideshow": {
     "slide_type": "subslide"
    }
   },
   "outputs": [],
   "source": [
    "# Import the data into a pandas csv\n",
    "\n",
    "import pandas as pd\n",
    "\n",
    "def import_csv(filename):\n",
    "    \"\"\"Imports the csv file at a given path\n",
    "    \n",
    "    :param filename: Path and name of file to import\n",
    "    :type filename: str\n",
    "    :return: Dataframe of csv file\n",
    "    \"\"\"\n",
    "    return pd.read_csv(filename, sep=',')\n",
    "\n",
    "def record_assays(df):\n",
    "    \"\"\"Removes SMILES data to create assay dataframe, where\n",
    "    each row corresponds to a different assay (and a different \n",
    "    molecule)\n",
    "    \n",
    "    :param df: Dataframe of input data\n",
    "    :type df: Pandas Dataframe\n",
    "    :return: Dataframe of assay data\n",
    "    \"\"\"\n",
    "    #Still need to sort this data\n",
    "    return df.drop(['SMILES'], axis = 1)\n"
   ]
  },
  {
   "cell_type": "code",
   "execution_count": 10,
   "metadata": {
    "slideshow": {
     "slide_type": "subslide"
    }
   },
   "outputs": [],
   "source": [
    "def record_compounds(df):\n",
    "    \"\"\"Isolate SMILES data to create compound dataframe\n",
    "    \n",
    "    :param df: Dataframe of input data\n",
    "    :type df: Pandas Dataframe\n",
    "    :return: Dataframe of assay data\n",
    "    \"\"\"\n",
    "    series =  df['SMILES']\n",
    "    return series.to_frame()\n",
    "\n",
    "def import_data(filename):\n",
    "    \"\"\"Imports the data at a given path\n",
    "    \n",
    "    :param filename: Path and name of file to import\n",
    "    :type filename: str\n",
    "    :return: Dataframes of assays and compounds\n",
    "    :return type: pandas Dataframe\n",
    "    \"\"\"\n",
    "    # Read in data\n",
    "    df = import_csv(filename)\n",
    "\n",
    "    df_assay = record_assays(df)\n",
    "    df_compounds = record_compounds(df)\n",
    "    \n",
    "    return df_assay, df_compounds"
   ]
  },
  {
   "cell_type": "markdown",
   "metadata": {},
   "source": [
    "## Structuring the Data"
   ]
  },
  {
   "cell_type": "code",
   "execution_count": 11,
   "metadata": {},
   "outputs": [],
   "source": [
    "df_assay, df_compounds = importer.import_data('../data/activity_data.csv')\n",
    "df_compounds = pd.DataFrame(df_compounds)"
   ]
  },
  {
   "cell_type": "markdown",
   "metadata": {},
   "source": [
    "## Populate molecule data from RDKit"
   ]
  },
  {
   "cell_type": "code",
   "execution_count": 12,
   "metadata": {},
   "outputs": [
    {
     "data": {
      "text/html": [
       "<div>\n",
       "<style scoped>\n",
       "    .dataframe tbody tr th:only-of-type {\n",
       "        vertical-align: middle;\n",
       "    }\n",
       "\n",
       "    .dataframe tbody tr th {\n",
       "        vertical-align: top;\n",
       "    }\n",
       "\n",
       "    .dataframe thead th {\n",
       "        text-align: right;\n",
       "    }\n",
       "</style>\n",
       "<table border=\"1\" class=\"dataframe\">\n",
       "  <thead>\n",
       "    <tr style=\"text-align: right;\">\n",
       "      <th></th>\n",
       "      <th>SMILES</th>\n",
       "      <th>H_acceptors</th>\n",
       "      <th>H_donors</th>\n",
       "      <th>MW</th>\n",
       "      <th>LogP</th>\n",
       "    </tr>\n",
       "  </thead>\n",
       "  <tbody>\n",
       "    <tr>\n",
       "      <th>0</th>\n",
       "      <td>CCn1nccc1C(=O)N1Cc2ccc(Cl)cc2C2(CCN(c3cncc4ccc...</td>\n",
       "      <td>5</td>\n",
       "      <td>0</td>\n",
       "      <td>485.161853</td>\n",
       "      <td>4.43530</td>\n",
       "    </tr>\n",
       "    <tr>\n",
       "      <th>1</th>\n",
       "      <td>Cc1cnn(C)c1C(=O)N1Cc2ccc(Cl)cc2C2(CCN(c3cncc4c...</td>\n",
       "      <td>5</td>\n",
       "      <td>0</td>\n",
       "      <td>485.161853</td>\n",
       "      <td>4.26082</td>\n",
       "    </tr>\n",
       "    <tr>\n",
       "      <th>2</th>\n",
       "      <td>Cc1cc(C(=O)N2Cc3ccc(Cl)cc3C3(CCN(c4cncc5ccccc4...</td>\n",
       "      <td>5</td>\n",
       "      <td>0</td>\n",
       "      <td>485.161853</td>\n",
       "      <td>4.26082</td>\n",
       "    </tr>\n",
       "    <tr>\n",
       "      <th>3</th>\n",
       "      <td>O=C(Nc1cncc2c1CCCC2)[C@H]1CNS(=O)(=O)c2ccc(Cl)...</td>\n",
       "      <td>4</td>\n",
       "      <td>2</td>\n",
       "      <td>391.075740</td>\n",
       "      <td>2.62800</td>\n",
       "    </tr>\n",
       "    <tr>\n",
       "      <th>4</th>\n",
       "      <td>O=C(Nc1cncc2c1CCCC2)[C@@H]1CNS(=O)(=O)c2ccc(Cl...</td>\n",
       "      <td>4</td>\n",
       "      <td>2</td>\n",
       "      <td>391.075740</td>\n",
       "      <td>2.62800</td>\n",
       "    </tr>\n",
       "    <tr>\n",
       "      <th>...</th>\n",
       "      <td>...</td>\n",
       "      <td>...</td>\n",
       "      <td>...</td>\n",
       "      <td>...</td>\n",
       "      <td>...</td>\n",
       "    </tr>\n",
       "    <tr>\n",
       "      <th>2032</th>\n",
       "      <td>N#Cc1cc(Cl)cc(NC(=O)Nc2cccnc2)c1</td>\n",
       "      <td>3</td>\n",
       "      <td>2</td>\n",
       "      <td>272.046489</td>\n",
       "      <td>3.25068</td>\n",
       "    </tr>\n",
       "    <tr>\n",
       "      <th>2033</th>\n",
       "      <td>N#Cc1cccc(NC(=O)Nc2cncc(N)c2)c1</td>\n",
       "      <td>4</td>\n",
       "      <td>3</td>\n",
       "      <td>253.096360</td>\n",
       "      <td>2.17948</td>\n",
       "    </tr>\n",
       "    <tr>\n",
       "      <th>2034</th>\n",
       "      <td>N#Cc1cccc(NC(=O)Nc2c[nH]c3ncccc23)c1</td>\n",
       "      <td>3</td>\n",
       "      <td>3</td>\n",
       "      <td>277.096360</td>\n",
       "      <td>3.07858</td>\n",
       "    </tr>\n",
       "    <tr>\n",
       "      <th>2035</th>\n",
       "      <td>N#Cc1cccc(NC(=O)Cc2cncc3ccccc23)c1</td>\n",
       "      <td>3</td>\n",
       "      <td>1</td>\n",
       "      <td>287.105862</td>\n",
       "      <td>3.28768</td>\n",
       "    </tr>\n",
       "    <tr>\n",
       "      <th>2036</th>\n",
       "      <td>O=C(Cc1cncc2ccccc12)Nc1ccccc1</td>\n",
       "      <td>2</td>\n",
       "      <td>1</td>\n",
       "      <td>262.110613</td>\n",
       "      <td>3.41600</td>\n",
       "    </tr>\n",
       "  </tbody>\n",
       "</table>\n",
       "<p>2037 rows × 5 columns</p>\n",
       "</div>"
      ],
      "text/plain": [
       "                                                 SMILES  H_acceptors  \\\n",
       "0     CCn1nccc1C(=O)N1Cc2ccc(Cl)cc2C2(CCN(c3cncc4ccc...            5   \n",
       "1     Cc1cnn(C)c1C(=O)N1Cc2ccc(Cl)cc2C2(CCN(c3cncc4c...            5   \n",
       "2     Cc1cc(C(=O)N2Cc3ccc(Cl)cc3C3(CCN(c4cncc5ccccc4...            5   \n",
       "3     O=C(Nc1cncc2c1CCCC2)[C@H]1CNS(=O)(=O)c2ccc(Cl)...            4   \n",
       "4     O=C(Nc1cncc2c1CCCC2)[C@@H]1CNS(=O)(=O)c2ccc(Cl...            4   \n",
       "...                                                 ...          ...   \n",
       "2032                   N#Cc1cc(Cl)cc(NC(=O)Nc2cccnc2)c1            3   \n",
       "2033                    N#Cc1cccc(NC(=O)Nc2cncc(N)c2)c1            4   \n",
       "2034               N#Cc1cccc(NC(=O)Nc2c[nH]c3ncccc23)c1            3   \n",
       "2035                 N#Cc1cccc(NC(=O)Cc2cncc3ccccc23)c1            3   \n",
       "2036                      O=C(Cc1cncc2ccccc12)Nc1ccccc1            2   \n",
       "\n",
       "      H_donors          MW     LogP  \n",
       "0            0  485.161853  4.43530  \n",
       "1            0  485.161853  4.26082  \n",
       "2            0  485.161853  4.26082  \n",
       "3            2  391.075740  2.62800  \n",
       "4            2  391.075740  2.62800  \n",
       "...        ...         ...      ...  \n",
       "2032         2  272.046489  3.25068  \n",
       "2033         3  253.096360  2.17948  \n",
       "2034         3  277.096360  3.07858  \n",
       "2035         1  287.105862  3.28768  \n",
       "2036         1  262.110613  3.41600  \n",
       "\n",
       "[2037 rows x 5 columns]"
      ]
     },
     "execution_count": 12,
     "metadata": {},
     "output_type": "execute_result"
    }
   ],
   "source": [
    "#Calculate and populate df with Lipinski parameters\n",
    "\n",
    "H_acc_list, H_don_list, MW_list, logP_list = [], [], [], []\n",
    "for i in df_compounds['SMILES']:\n",
    "    m = Chem.MolFromSmiles(i)\n",
    "    H_acc_list.append(Descriptors.NumHAcceptors(m))\n",
    "    H_don_list.append(Descriptors.NumHDonors(m))\n",
    "    MW_list.append(Descriptors.ExactMolWt(m))\n",
    "    logP_list.append(Descriptors.MolLogP(m))\n",
    "\n",
    "df_compounds['H_acceptors'] = H_acc_list\n",
    "df_compounds['H_donors'] = H_don_list\n",
    "df_compounds['MW'] = MW_list\n",
    "df_compounds['LogP'] = logP_list\n",
    "\n",
    "df_compounds\n"
   ]
  },
  {
   "cell_type": "code",
   "execution_count": 13,
   "metadata": {
    "scrolled": true
   },
   "outputs": [
    {
     "data": {
      "text/html": [
       "<div>\n",
       "<style scoped>\n",
       "    .dataframe tbody tr th:only-of-type {\n",
       "        vertical-align: middle;\n",
       "    }\n",
       "\n",
       "    .dataframe tbody tr th {\n",
       "        vertical-align: top;\n",
       "    }\n",
       "\n",
       "    .dataframe thead th {\n",
       "        text-align: right;\n",
       "    }\n",
       "</style>\n",
       "<table border=\"1\" class=\"dataframe\">\n",
       "  <thead>\n",
       "    <tr style=\"text-align: right;\">\n",
       "      <th></th>\n",
       "      <th>SMILES</th>\n",
       "      <th>H_acceptors</th>\n",
       "      <th>H_donors</th>\n",
       "      <th>MW</th>\n",
       "      <th>LogP</th>\n",
       "      <th>Heavy_atoms</th>\n",
       "      <th>Heavy_atom_mw</th>\n",
       "      <th>NHOH_count</th>\n",
       "      <th>NO_count</th>\n",
       "      <th>Rotatable_bonds</th>\n",
       "      <th>Valence_electonrs</th>\n",
       "      <th>Rings</th>\n",
       "      <th>TPSA</th>\n",
       "    </tr>\n",
       "  </thead>\n",
       "  <tbody>\n",
       "    <tr>\n",
       "      <th>0</th>\n",
       "      <td>CCn1nccc1C(=O)N1Cc2ccc(Cl)cc2C2(CCN(c3cncc4ccc...</td>\n",
       "      <td>5</td>\n",
       "      <td>0</td>\n",
       "      <td>485.161853</td>\n",
       "      <td>4.43530</td>\n",
       "      <td>35</td>\n",
       "      <td>461.783</td>\n",
       "      <td>0</td>\n",
       "      <td>7</td>\n",
       "      <td>3</td>\n",
       "      <td>176</td>\n",
       "      <td>6</td>\n",
       "      <td>71.33</td>\n",
       "    </tr>\n",
       "    <tr>\n",
       "      <th>1</th>\n",
       "      <td>Cc1cnn(C)c1C(=O)N1Cc2ccc(Cl)cc2C2(CCN(c3cncc4c...</td>\n",
       "      <td>5</td>\n",
       "      <td>0</td>\n",
       "      <td>485.161853</td>\n",
       "      <td>4.26082</td>\n",
       "      <td>35</td>\n",
       "      <td>461.783</td>\n",
       "      <td>0</td>\n",
       "      <td>7</td>\n",
       "      <td>2</td>\n",
       "      <td>176</td>\n",
       "      <td>6</td>\n",
       "      <td>71.33</td>\n",
       "    </tr>\n",
       "    <tr>\n",
       "      <th>2</th>\n",
       "      <td>Cc1cc(C(=O)N2Cc3ccc(Cl)cc3C3(CCN(c4cncc5ccccc4...</td>\n",
       "      <td>5</td>\n",
       "      <td>0</td>\n",
       "      <td>485.161853</td>\n",
       "      <td>4.26082</td>\n",
       "      <td>35</td>\n",
       "      <td>461.783</td>\n",
       "      <td>0</td>\n",
       "      <td>7</td>\n",
       "      <td>2</td>\n",
       "      <td>176</td>\n",
       "      <td>6</td>\n",
       "      <td>71.33</td>\n",
       "    </tr>\n",
       "    <tr>\n",
       "      <th>3</th>\n",
       "      <td>O=C(Nc1cncc2c1CCCC2)[C@H]1CNS(=O)(=O)c2ccc(Cl)...</td>\n",
       "      <td>4</td>\n",
       "      <td>2</td>\n",
       "      <td>391.075740</td>\n",
       "      <td>2.62800</td>\n",
       "      <td>26</td>\n",
       "      <td>373.736</td>\n",
       "      <td>2</td>\n",
       "      <td>6</td>\n",
       "      <td>2</td>\n",
       "      <td>136</td>\n",
       "      <td>4</td>\n",
       "      <td>88.16</td>\n",
       "    </tr>\n",
       "    <tr>\n",
       "      <th>4</th>\n",
       "      <td>O=C(Nc1cncc2c1CCCC2)[C@@H]1CNS(=O)(=O)c2ccc(Cl...</td>\n",
       "      <td>4</td>\n",
       "      <td>2</td>\n",
       "      <td>391.075740</td>\n",
       "      <td>2.62800</td>\n",
       "      <td>26</td>\n",
       "      <td>373.736</td>\n",
       "      <td>2</td>\n",
       "      <td>6</td>\n",
       "      <td>2</td>\n",
       "      <td>136</td>\n",
       "      <td>4</td>\n",
       "      <td>88.16</td>\n",
       "    </tr>\n",
       "    <tr>\n",
       "      <th>...</th>\n",
       "      <td>...</td>\n",
       "      <td>...</td>\n",
       "      <td>...</td>\n",
       "      <td>...</td>\n",
       "      <td>...</td>\n",
       "      <td>...</td>\n",
       "      <td>...</td>\n",
       "      <td>...</td>\n",
       "      <td>...</td>\n",
       "      <td>...</td>\n",
       "      <td>...</td>\n",
       "      <td>...</td>\n",
       "      <td>...</td>\n",
       "    </tr>\n",
       "    <tr>\n",
       "      <th>2032</th>\n",
       "      <td>N#Cc1cc(Cl)cc(NC(=O)Nc2cccnc2)c1</td>\n",
       "      <td>3</td>\n",
       "      <td>2</td>\n",
       "      <td>272.046489</td>\n",
       "      <td>3.25068</td>\n",
       "      <td>19</td>\n",
       "      <td>263.623</td>\n",
       "      <td>2</td>\n",
       "      <td>5</td>\n",
       "      <td>2</td>\n",
       "      <td>94</td>\n",
       "      <td>2</td>\n",
       "      <td>77.81</td>\n",
       "    </tr>\n",
       "    <tr>\n",
       "      <th>2033</th>\n",
       "      <td>N#Cc1cccc(NC(=O)Nc2cncc(N)c2)c1</td>\n",
       "      <td>4</td>\n",
       "      <td>3</td>\n",
       "      <td>253.096360</td>\n",
       "      <td>2.17948</td>\n",
       "      <td>19</td>\n",
       "      <td>242.177</td>\n",
       "      <td>4</td>\n",
       "      <td>6</td>\n",
       "      <td>2</td>\n",
       "      <td>94</td>\n",
       "      <td>2</td>\n",
       "      <td>103.83</td>\n",
       "    </tr>\n",
       "    <tr>\n",
       "      <th>2034</th>\n",
       "      <td>N#Cc1cccc(NC(=O)Nc2c[nH]c3ncccc23)c1</td>\n",
       "      <td>3</td>\n",
       "      <td>3</td>\n",
       "      <td>277.096360</td>\n",
       "      <td>3.07858</td>\n",
       "      <td>21</td>\n",
       "      <td>266.199</td>\n",
       "      <td>3</td>\n",
       "      <td>6</td>\n",
       "      <td>2</td>\n",
       "      <td>102</td>\n",
       "      <td>3</td>\n",
       "      <td>93.60</td>\n",
       "    </tr>\n",
       "    <tr>\n",
       "      <th>2035</th>\n",
       "      <td>N#Cc1cccc(NC(=O)Cc2cncc3ccccc23)c1</td>\n",
       "      <td>3</td>\n",
       "      <td>1</td>\n",
       "      <td>287.105862</td>\n",
       "      <td>3.28768</td>\n",
       "      <td>22</td>\n",
       "      <td>274.218</td>\n",
       "      <td>1</td>\n",
       "      <td>4</td>\n",
       "      <td>3</td>\n",
       "      <td>106</td>\n",
       "      <td>3</td>\n",
       "      <td>65.78</td>\n",
       "    </tr>\n",
       "    <tr>\n",
       "      <th>2036</th>\n",
       "      <td>O=C(Cc1cncc2ccccc12)Nc1ccccc1</td>\n",
       "      <td>2</td>\n",
       "      <td>1</td>\n",
       "      <td>262.110613</td>\n",
       "      <td>3.41600</td>\n",
       "      <td>20</td>\n",
       "      <td>248.200</td>\n",
       "      <td>1</td>\n",
       "      <td>3</td>\n",
       "      <td>3</td>\n",
       "      <td>98</td>\n",
       "      <td>3</td>\n",
       "      <td>41.99</td>\n",
       "    </tr>\n",
       "  </tbody>\n",
       "</table>\n",
       "<p>2037 rows × 13 columns</p>\n",
       "</div>"
      ],
      "text/plain": [
       "                                                 SMILES  H_acceptors  \\\n",
       "0     CCn1nccc1C(=O)N1Cc2ccc(Cl)cc2C2(CCN(c3cncc4ccc...            5   \n",
       "1     Cc1cnn(C)c1C(=O)N1Cc2ccc(Cl)cc2C2(CCN(c3cncc4c...            5   \n",
       "2     Cc1cc(C(=O)N2Cc3ccc(Cl)cc3C3(CCN(c4cncc5ccccc4...            5   \n",
       "3     O=C(Nc1cncc2c1CCCC2)[C@H]1CNS(=O)(=O)c2ccc(Cl)...            4   \n",
       "4     O=C(Nc1cncc2c1CCCC2)[C@@H]1CNS(=O)(=O)c2ccc(Cl...            4   \n",
       "...                                                 ...          ...   \n",
       "2032                   N#Cc1cc(Cl)cc(NC(=O)Nc2cccnc2)c1            3   \n",
       "2033                    N#Cc1cccc(NC(=O)Nc2cncc(N)c2)c1            4   \n",
       "2034               N#Cc1cccc(NC(=O)Nc2c[nH]c3ncccc23)c1            3   \n",
       "2035                 N#Cc1cccc(NC(=O)Cc2cncc3ccccc23)c1            3   \n",
       "2036                      O=C(Cc1cncc2ccccc12)Nc1ccccc1            2   \n",
       "\n",
       "      H_donors          MW     LogP  Heavy_atoms  Heavy_atom_mw  NHOH_count  \\\n",
       "0            0  485.161853  4.43530           35        461.783           0   \n",
       "1            0  485.161853  4.26082           35        461.783           0   \n",
       "2            0  485.161853  4.26082           35        461.783           0   \n",
       "3            2  391.075740  2.62800           26        373.736           2   \n",
       "4            2  391.075740  2.62800           26        373.736           2   \n",
       "...        ...         ...      ...          ...            ...         ...   \n",
       "2032         2  272.046489  3.25068           19        263.623           2   \n",
       "2033         3  253.096360  2.17948           19        242.177           4   \n",
       "2034         3  277.096360  3.07858           21        266.199           3   \n",
       "2035         1  287.105862  3.28768           22        274.218           1   \n",
       "2036         1  262.110613  3.41600           20        248.200           1   \n",
       "\n",
       "      NO_count  Rotatable_bonds  Valence_electonrs  Rings    TPSA  \n",
       "0            7                3                176      6   71.33  \n",
       "1            7                2                176      6   71.33  \n",
       "2            7                2                176      6   71.33  \n",
       "3            6                2                136      4   88.16  \n",
       "4            6                2                136      4   88.16  \n",
       "...        ...              ...                ...    ...     ...  \n",
       "2032         5                2                 94      2   77.81  \n",
       "2033         6                2                 94      2  103.83  \n",
       "2034         6                2                102      3   93.60  \n",
       "2035         4                3                106      3   65.78  \n",
       "2036         3                3                 98      3   41.99  \n",
       "\n",
       "[2037 rows x 13 columns]"
      ]
     },
     "execution_count": 13,
     "metadata": {},
     "output_type": "execute_result"
    }
   ],
   "source": [
    "#Calculate additional features for training (should probably add more, but its a start)\n",
    "\n",
    "Heavy_atoms, Heavy_atoms_mw, NHOH, NO = [], [], [], []\n",
    "Rotatable_bonds, Valence_e, rings, TPSA = [], [], [], []\n",
    "for i in df_compounds['SMILES']:\n",
    "    m = Chem.MolFromSmiles(i)\n",
    "    Heavy_atoms.append(Descriptors.HeavyAtomCount(m))\n",
    "    Heavy_atoms_mw.append(Descriptors.HeavyAtomMolWt(m))\n",
    "    NHOH.append(Descriptors.NHOHCount(m))\n",
    "    NO.append(Descriptors.NOCount(m))\n",
    "    TPSA.append(Descriptors.TPSA(m))\n",
    "    Rotatable_bonds.append(Descriptors.NumRotatableBonds(m))\n",
    "    Valence_e.append(Descriptors.NumValenceElectrons(m))\n",
    "    rings.append(Descriptors.RingCount(m))\n",
    "\n",
    "df_compounds['Heavy_atoms'] = Heavy_atoms\n",
    "df_compounds['Heavy_atom_mw'] = Heavy_atoms_mw\n",
    "df_compounds['NHOH_count'] = NHOH\n",
    "df_compounds['NO_count'] = NO\n",
    "df_compounds['Rotatable_bonds'] = Rotatable_bonds\n",
    "df_compounds['Valence_electonrs'] = Valence_e\n",
    "df_compounds['Rings'] = rings\n",
    "df_compounds['TPSA'] = TPSA\n",
    "\n",
    "df_compounds"
   ]
  },
  {
   "cell_type": "code",
   "execution_count": 14,
   "metadata": {},
   "outputs": [
    {
     "data": {
      "text/html": [
       "<div>\n",
       "<style scoped>\n",
       "    .dataframe tbody tr th:only-of-type {\n",
       "        vertical-align: middle;\n",
       "    }\n",
       "\n",
       "    .dataframe tbody tr th {\n",
       "        vertical-align: top;\n",
       "    }\n",
       "\n",
       "    .dataframe thead th {\n",
       "        text-align: right;\n",
       "    }\n",
       "</style>\n",
       "<table border=\"1\" class=\"dataframe\">\n",
       "  <thead>\n",
       "    <tr style=\"text-align: right;\">\n",
       "      <th></th>\n",
       "      <th>SMILES</th>\n",
       "      <th>H_acceptors</th>\n",
       "      <th>H_donors</th>\n",
       "      <th>MW</th>\n",
       "      <th>LogP</th>\n",
       "      <th>Heavy_atoms</th>\n",
       "      <th>Heavy_atom_mw</th>\n",
       "      <th>NHOH_count</th>\n",
       "      <th>NO_count</th>\n",
       "      <th>Rotatable_bonds</th>\n",
       "      <th>Valence_electonrs</th>\n",
       "      <th>Rings</th>\n",
       "      <th>TPSA</th>\n",
       "      <th>fingerprint</th>\n",
       "    </tr>\n",
       "  </thead>\n",
       "  <tbody>\n",
       "    <tr>\n",
       "      <th>0</th>\n",
       "      <td>CCn1nccc1C(=O)N1Cc2ccc(Cl)cc2C2(CCN(c3cncc4ccc...</td>\n",
       "      <td>5</td>\n",
       "      <td>0</td>\n",
       "      <td>485.161853</td>\n",
       "      <td>4.43530</td>\n",
       "      <td>35</td>\n",
       "      <td>461.783</td>\n",
       "      <td>0</td>\n",
       "      <td>7</td>\n",
       "      <td>3</td>\n",
       "      <td>176</td>\n",
       "      <td>6</td>\n",
       "      <td>71.33</td>\n",
       "      <td>[0, 0, 0, 0, 0, 0, 0, 0, 0, 0, 0, 0, 0, 0, 0, ...</td>\n",
       "    </tr>\n",
       "    <tr>\n",
       "      <th>1</th>\n",
       "      <td>Cc1cnn(C)c1C(=O)N1Cc2ccc(Cl)cc2C2(CCN(c3cncc4c...</td>\n",
       "      <td>5</td>\n",
       "      <td>0</td>\n",
       "      <td>485.161853</td>\n",
       "      <td>4.26082</td>\n",
       "      <td>35</td>\n",
       "      <td>461.783</td>\n",
       "      <td>0</td>\n",
       "      <td>7</td>\n",
       "      <td>2</td>\n",
       "      <td>176</td>\n",
       "      <td>6</td>\n",
       "      <td>71.33</td>\n",
       "      <td>[0, 0, 0, 0, 0, 0, 0, 0, 0, 0, 0, 0, 0, 0, 0, ...</td>\n",
       "    </tr>\n",
       "    <tr>\n",
       "      <th>2</th>\n",
       "      <td>Cc1cc(C(=O)N2Cc3ccc(Cl)cc3C3(CCN(c4cncc5ccccc4...</td>\n",
       "      <td>5</td>\n",
       "      <td>0</td>\n",
       "      <td>485.161853</td>\n",
       "      <td>4.26082</td>\n",
       "      <td>35</td>\n",
       "      <td>461.783</td>\n",
       "      <td>0</td>\n",
       "      <td>7</td>\n",
       "      <td>2</td>\n",
       "      <td>176</td>\n",
       "      <td>6</td>\n",
       "      <td>71.33</td>\n",
       "      <td>[0, 0, 0, 0, 0, 0, 0, 0, 0, 0, 0, 0, 0, 0, 0, ...</td>\n",
       "    </tr>\n",
       "    <tr>\n",
       "      <th>3</th>\n",
       "      <td>O=C(Nc1cncc2c1CCCC2)[C@H]1CNS(=O)(=O)c2ccc(Cl)...</td>\n",
       "      <td>4</td>\n",
       "      <td>2</td>\n",
       "      <td>391.075740</td>\n",
       "      <td>2.62800</td>\n",
       "      <td>26</td>\n",
       "      <td>373.736</td>\n",
       "      <td>2</td>\n",
       "      <td>6</td>\n",
       "      <td>2</td>\n",
       "      <td>136</td>\n",
       "      <td>4</td>\n",
       "      <td>88.16</td>\n",
       "      <td>[0, 0, 0, 0, 0, 0, 0, 0, 0, 0, 0, 0, 0, 0, 0, ...</td>\n",
       "    </tr>\n",
       "    <tr>\n",
       "      <th>4</th>\n",
       "      <td>O=C(Nc1cncc2c1CCCC2)[C@@H]1CNS(=O)(=O)c2ccc(Cl...</td>\n",
       "      <td>4</td>\n",
       "      <td>2</td>\n",
       "      <td>391.075740</td>\n",
       "      <td>2.62800</td>\n",
       "      <td>26</td>\n",
       "      <td>373.736</td>\n",
       "      <td>2</td>\n",
       "      <td>6</td>\n",
       "      <td>2</td>\n",
       "      <td>136</td>\n",
       "      <td>4</td>\n",
       "      <td>88.16</td>\n",
       "      <td>[0, 0, 0, 0, 0, 0, 0, 0, 0, 0, 0, 0, 0, 0, 0, ...</td>\n",
       "    </tr>\n",
       "    <tr>\n",
       "      <th>...</th>\n",
       "      <td>...</td>\n",
       "      <td>...</td>\n",
       "      <td>...</td>\n",
       "      <td>...</td>\n",
       "      <td>...</td>\n",
       "      <td>...</td>\n",
       "      <td>...</td>\n",
       "      <td>...</td>\n",
       "      <td>...</td>\n",
       "      <td>...</td>\n",
       "      <td>...</td>\n",
       "      <td>...</td>\n",
       "      <td>...</td>\n",
       "      <td>...</td>\n",
       "    </tr>\n",
       "    <tr>\n",
       "      <th>2032</th>\n",
       "      <td>N#Cc1cc(Cl)cc(NC(=O)Nc2cccnc2)c1</td>\n",
       "      <td>3</td>\n",
       "      <td>2</td>\n",
       "      <td>272.046489</td>\n",
       "      <td>3.25068</td>\n",
       "      <td>19</td>\n",
       "      <td>263.623</td>\n",
       "      <td>2</td>\n",
       "      <td>5</td>\n",
       "      <td>2</td>\n",
       "      <td>94</td>\n",
       "      <td>2</td>\n",
       "      <td>77.81</td>\n",
       "      <td>[0, 0, 0, 0, 0, 0, 0, 0, 0, 0, 0, 0, 0, 0, 0, ...</td>\n",
       "    </tr>\n",
       "    <tr>\n",
       "      <th>2033</th>\n",
       "      <td>N#Cc1cccc(NC(=O)Nc2cncc(N)c2)c1</td>\n",
       "      <td>4</td>\n",
       "      <td>3</td>\n",
       "      <td>253.096360</td>\n",
       "      <td>2.17948</td>\n",
       "      <td>19</td>\n",
       "      <td>242.177</td>\n",
       "      <td>4</td>\n",
       "      <td>6</td>\n",
       "      <td>2</td>\n",
       "      <td>94</td>\n",
       "      <td>2</td>\n",
       "      <td>103.83</td>\n",
       "      <td>[0, 0, 0, 0, 0, 0, 0, 0, 0, 0, 0, 0, 0, 0, 0, ...</td>\n",
       "    </tr>\n",
       "    <tr>\n",
       "      <th>2034</th>\n",
       "      <td>N#Cc1cccc(NC(=O)Nc2c[nH]c3ncccc23)c1</td>\n",
       "      <td>3</td>\n",
       "      <td>3</td>\n",
       "      <td>277.096360</td>\n",
       "      <td>3.07858</td>\n",
       "      <td>21</td>\n",
       "      <td>266.199</td>\n",
       "      <td>3</td>\n",
       "      <td>6</td>\n",
       "      <td>2</td>\n",
       "      <td>102</td>\n",
       "      <td>3</td>\n",
       "      <td>93.60</td>\n",
       "      <td>[0, 0, 0, 0, 0, 0, 0, 0, 0, 0, 0, 0, 0, 0, 0, ...</td>\n",
       "    </tr>\n",
       "    <tr>\n",
       "      <th>2035</th>\n",
       "      <td>N#Cc1cccc(NC(=O)Cc2cncc3ccccc23)c1</td>\n",
       "      <td>3</td>\n",
       "      <td>1</td>\n",
       "      <td>287.105862</td>\n",
       "      <td>3.28768</td>\n",
       "      <td>22</td>\n",
       "      <td>274.218</td>\n",
       "      <td>1</td>\n",
       "      <td>4</td>\n",
       "      <td>3</td>\n",
       "      <td>106</td>\n",
       "      <td>3</td>\n",
       "      <td>65.78</td>\n",
       "      <td>[0, 0, 0, 0, 0, 0, 0, 0, 0, 0, 0, 0, 0, 0, 0, ...</td>\n",
       "    </tr>\n",
       "    <tr>\n",
       "      <th>2036</th>\n",
       "      <td>O=C(Cc1cncc2ccccc12)Nc1ccccc1</td>\n",
       "      <td>2</td>\n",
       "      <td>1</td>\n",
       "      <td>262.110613</td>\n",
       "      <td>3.41600</td>\n",
       "      <td>20</td>\n",
       "      <td>248.200</td>\n",
       "      <td>1</td>\n",
       "      <td>3</td>\n",
       "      <td>3</td>\n",
       "      <td>98</td>\n",
       "      <td>3</td>\n",
       "      <td>41.99</td>\n",
       "      <td>[0, 0, 0, 0, 0, 0, 0, 0, 0, 0, 0, 0, 0, 0, 0, ...</td>\n",
       "    </tr>\n",
       "  </tbody>\n",
       "</table>\n",
       "<p>2037 rows × 14 columns</p>\n",
       "</div>"
      ],
      "text/plain": [
       "                                                 SMILES  H_acceptors  \\\n",
       "0     CCn1nccc1C(=O)N1Cc2ccc(Cl)cc2C2(CCN(c3cncc4ccc...            5   \n",
       "1     Cc1cnn(C)c1C(=O)N1Cc2ccc(Cl)cc2C2(CCN(c3cncc4c...            5   \n",
       "2     Cc1cc(C(=O)N2Cc3ccc(Cl)cc3C3(CCN(c4cncc5ccccc4...            5   \n",
       "3     O=C(Nc1cncc2c1CCCC2)[C@H]1CNS(=O)(=O)c2ccc(Cl)...            4   \n",
       "4     O=C(Nc1cncc2c1CCCC2)[C@@H]1CNS(=O)(=O)c2ccc(Cl...            4   \n",
       "...                                                 ...          ...   \n",
       "2032                   N#Cc1cc(Cl)cc(NC(=O)Nc2cccnc2)c1            3   \n",
       "2033                    N#Cc1cccc(NC(=O)Nc2cncc(N)c2)c1            4   \n",
       "2034               N#Cc1cccc(NC(=O)Nc2c[nH]c3ncccc23)c1            3   \n",
       "2035                 N#Cc1cccc(NC(=O)Cc2cncc3ccccc23)c1            3   \n",
       "2036                      O=C(Cc1cncc2ccccc12)Nc1ccccc1            2   \n",
       "\n",
       "      H_donors          MW     LogP  Heavy_atoms  Heavy_atom_mw  NHOH_count  \\\n",
       "0            0  485.161853  4.43530           35        461.783           0   \n",
       "1            0  485.161853  4.26082           35        461.783           0   \n",
       "2            0  485.161853  4.26082           35        461.783           0   \n",
       "3            2  391.075740  2.62800           26        373.736           2   \n",
       "4            2  391.075740  2.62800           26        373.736           2   \n",
       "...        ...         ...      ...          ...            ...         ...   \n",
       "2032         2  272.046489  3.25068           19        263.623           2   \n",
       "2033         3  253.096360  2.17948           19        242.177           4   \n",
       "2034         3  277.096360  3.07858           21        266.199           3   \n",
       "2035         1  287.105862  3.28768           22        274.218           1   \n",
       "2036         1  262.110613  3.41600           20        248.200           1   \n",
       "\n",
       "      NO_count  Rotatable_bonds  Valence_electonrs  Rings    TPSA  \\\n",
       "0            7                3                176      6   71.33   \n",
       "1            7                2                176      6   71.33   \n",
       "2            7                2                176      6   71.33   \n",
       "3            6                2                136      4   88.16   \n",
       "4            6                2                136      4   88.16   \n",
       "...        ...              ...                ...    ...     ...   \n",
       "2032         5                2                 94      2   77.81   \n",
       "2033         6                2                 94      2  103.83   \n",
       "2034         6                2                102      3   93.60   \n",
       "2035         4                3                106      3   65.78   \n",
       "2036         3                3                 98      3   41.99   \n",
       "\n",
       "                                            fingerprint  \n",
       "0     [0, 0, 0, 0, 0, 0, 0, 0, 0, 0, 0, 0, 0, 0, 0, ...  \n",
       "1     [0, 0, 0, 0, 0, 0, 0, 0, 0, 0, 0, 0, 0, 0, 0, ...  \n",
       "2     [0, 0, 0, 0, 0, 0, 0, 0, 0, 0, 0, 0, 0, 0, 0, ...  \n",
       "3     [0, 0, 0, 0, 0, 0, 0, 0, 0, 0, 0, 0, 0, 0, 0, ...  \n",
       "4     [0, 0, 0, 0, 0, 0, 0, 0, 0, 0, 0, 0, 0, 0, 0, ...  \n",
       "...                                                 ...  \n",
       "2032  [0, 0, 0, 0, 0, 0, 0, 0, 0, 0, 0, 0, 0, 0, 0, ...  \n",
       "2033  [0, 0, 0, 0, 0, 0, 0, 0, 0, 0, 0, 0, 0, 0, 0, ...  \n",
       "2034  [0, 0, 0, 0, 0, 0, 0, 0, 0, 0, 0, 0, 0, 0, 0, ...  \n",
       "2035  [0, 0, 0, 0, 0, 0, 0, 0, 0, 0, 0, 0, 0, 0, 0, ...  \n",
       "2036  [0, 0, 0, 0, 0, 0, 0, 0, 0, 0, 0, 0, 0, 0, 0, ...  \n",
       "\n",
       "[2037 rows x 14 columns]"
      ]
     },
     "execution_count": 14,
     "metadata": {},
     "output_type": "execute_result"
    }
   ],
   "source": [
    "fingerprints = []\n",
    "for i in df_compounds['SMILES']:\n",
    "    m = Chem.MolFromSmiles(i)\n",
    "    fingerprints.append(AllChem.GetMorganFingerprintAsBitVect(m, 2, nBits=2048))\n",
    "\n",
    "df_compounds['fingerprint'] = fingerprints\n",
    "df_compounds\n",
    "    "
   ]
  },
  {
   "cell_type": "code",
   "execution_count": null,
   "metadata": {},
   "outputs": [],
   "source": []
  },
  {
   "cell_type": "code",
   "execution_count": 15,
   "metadata": {},
   "outputs": [
    {
     "data": {
      "text/html": [
       "<div>\n",
       "<style scoped>\n",
       "    .dataframe tbody tr th:only-of-type {\n",
       "        vertical-align: middle;\n",
       "    }\n",
       "\n",
       "    .dataframe tbody tr th {\n",
       "        vertical-align: top;\n",
       "    }\n",
       "\n",
       "    .dataframe thead th {\n",
       "        text-align: right;\n",
       "    }\n",
       "</style>\n",
       "<table border=\"1\" class=\"dataframe\">\n",
       "  <thead>\n",
       "    <tr style=\"text-align: right;\">\n",
       "      <th></th>\n",
       "      <th>CID</th>\n",
       "      <th>canonical_CID</th>\n",
       "      <th>r_inhibition_at_20_uM</th>\n",
       "      <th>r_inhibition_at_50_uM</th>\n",
       "      <th>r_avg_IC50</th>\n",
       "      <th>f_inhibition_at_20_uM</th>\n",
       "      <th>f_inhibition_at_50_uM</th>\n",
       "      <th>f_avg_IC50</th>\n",
       "      <th>f_avg_pIC50</th>\n",
       "      <th>relative_solubility_at_20_uM</th>\n",
       "      <th>relative_solubility_at_100_uM</th>\n",
       "      <th>trypsin_IC50</th>\n",
       "      <th>NMR_std_ratio</th>\n",
       "      <th>acrylamide</th>\n",
       "      <th>chloroacetamide</th>\n",
       "      <th>series</th>\n",
       "      <th>frag_id</th>\n",
       "    </tr>\n",
       "  </thead>\n",
       "  <tbody>\n",
       "    <tr>\n",
       "      <th>0</th>\n",
       "      <td>MAT-POS-be048f2c-5</td>\n",
       "      <td>MAT-POS-be048f2c-5</td>\n",
       "      <td>NaN</td>\n",
       "      <td>NaN</td>\n",
       "      <td>NaN</td>\n",
       "      <td>NaN</td>\n",
       "      <td>NaN</td>\n",
       "      <td>0.297012</td>\n",
       "      <td>NaN</td>\n",
       "      <td>NaN</td>\n",
       "      <td>NaN</td>\n",
       "      <td>NaN</td>\n",
       "      <td>NaN</td>\n",
       "      <td>False</td>\n",
       "      <td>False</td>\n",
       "      <td>3-aminopyridine-like</td>\n",
       "      <td>NaN</td>\n",
       "    </tr>\n",
       "    <tr>\n",
       "      <th>1</th>\n",
       "      <td>EDJ-MED-cc48ee33-4</td>\n",
       "      <td>EDJ-MED-cc48ee33-4</td>\n",
       "      <td>NaN</td>\n",
       "      <td>NaN</td>\n",
       "      <td>NaN</td>\n",
       "      <td>NaN</td>\n",
       "      <td>NaN</td>\n",
       "      <td>0.682988</td>\n",
       "      <td>NaN</td>\n",
       "      <td>NaN</td>\n",
       "      <td>NaN</td>\n",
       "      <td>NaN</td>\n",
       "      <td>NaN</td>\n",
       "      <td>False</td>\n",
       "      <td>False</td>\n",
       "      <td>3-aminopyridine-like</td>\n",
       "      <td>NaN</td>\n",
       "    </tr>\n",
       "    <tr>\n",
       "      <th>2</th>\n",
       "      <td>EDJ-MED-cc48ee33-5</td>\n",
       "      <td>EDJ-MED-cc48ee33-5</td>\n",
       "      <td>NaN</td>\n",
       "      <td>NaN</td>\n",
       "      <td>NaN</td>\n",
       "      <td>NaN</td>\n",
       "      <td>NaN</td>\n",
       "      <td>0.463982</td>\n",
       "      <td>NaN</td>\n",
       "      <td>NaN</td>\n",
       "      <td>NaN</td>\n",
       "      <td>NaN</td>\n",
       "      <td>NaN</td>\n",
       "      <td>False</td>\n",
       "      <td>False</td>\n",
       "      <td>3-aminopyridine-like</td>\n",
       "      <td>NaN</td>\n",
       "    </tr>\n",
       "    <tr>\n",
       "      <th>3</th>\n",
       "      <td>MIK-UNK-58cd43d0-1</td>\n",
       "      <td>MIK-UNK-58cd43d0-1</td>\n",
       "      <td>NaN</td>\n",
       "      <td>NaN</td>\n",
       "      <td>NaN</td>\n",
       "      <td>NaN</td>\n",
       "      <td>NaN</td>\n",
       "      <td>0.723365</td>\n",
       "      <td>NaN</td>\n",
       "      <td>NaN</td>\n",
       "      <td>NaN</td>\n",
       "      <td>NaN</td>\n",
       "      <td>NaN</td>\n",
       "      <td>False</td>\n",
       "      <td>False</td>\n",
       "      <td>3-aminopyridine-like</td>\n",
       "      <td>NaN</td>\n",
       "    </tr>\n",
       "    <tr>\n",
       "      <th>4</th>\n",
       "      <td>MIK-UNK-78dbf1b8-1</td>\n",
       "      <td>MIK-UNK-78dbf1b8-1</td>\n",
       "      <td>NaN</td>\n",
       "      <td>NaN</td>\n",
       "      <td>NaN</td>\n",
       "      <td>NaN</td>\n",
       "      <td>NaN</td>\n",
       "      <td>0.205139</td>\n",
       "      <td>NaN</td>\n",
       "      <td>NaN</td>\n",
       "      <td>NaN</td>\n",
       "      <td>NaN</td>\n",
       "      <td>NaN</td>\n",
       "      <td>False</td>\n",
       "      <td>False</td>\n",
       "      <td>3-aminopyridine-like</td>\n",
       "      <td>NaN</td>\n",
       "    </tr>\n",
       "    <tr>\n",
       "      <th>...</th>\n",
       "      <td>...</td>\n",
       "      <td>...</td>\n",
       "      <td>...</td>\n",
       "      <td>...</td>\n",
       "      <td>...</td>\n",
       "      <td>...</td>\n",
       "      <td>...</td>\n",
       "      <td>...</td>\n",
       "      <td>...</td>\n",
       "      <td>...</td>\n",
       "      <td>...</td>\n",
       "      <td>...</td>\n",
       "      <td>...</td>\n",
       "      <td>...</td>\n",
       "      <td>...</td>\n",
       "      <td>...</td>\n",
       "      <td>...</td>\n",
       "    </tr>\n",
       "    <tr>\n",
       "      <th>2032</th>\n",
       "      <td>WAR-XCH-eb7b662f-2</td>\n",
       "      <td>WAR-XCH-eb7b662f-2</td>\n",
       "      <td>NaN</td>\n",
       "      <td>NaN</td>\n",
       "      <td>NaN</td>\n",
       "      <td>NaN</td>\n",
       "      <td>NaN</td>\n",
       "      <td>99.010000</td>\n",
       "      <td>NaN</td>\n",
       "      <td>NaN</td>\n",
       "      <td>NaN</td>\n",
       "      <td>99.0</td>\n",
       "      <td>NaN</td>\n",
       "      <td>False</td>\n",
       "      <td>False</td>\n",
       "      <td>3-aminopyridine-like</td>\n",
       "      <td>NaN</td>\n",
       "    </tr>\n",
       "    <tr>\n",
       "      <th>2033</th>\n",
       "      <td>DAR-DIA-23aa0b97-8</td>\n",
       "      <td>DAR-DIA-23aa0b97-8</td>\n",
       "      <td>NaN</td>\n",
       "      <td>NaN</td>\n",
       "      <td>NaN</td>\n",
       "      <td>NaN</td>\n",
       "      <td>NaN</td>\n",
       "      <td>54.272964</td>\n",
       "      <td>NaN</td>\n",
       "      <td>NaN</td>\n",
       "      <td>NaN</td>\n",
       "      <td>99.0</td>\n",
       "      <td>NaN</td>\n",
       "      <td>False</td>\n",
       "      <td>False</td>\n",
       "      <td>3-aminopyridine-like</td>\n",
       "      <td>NaN</td>\n",
       "    </tr>\n",
       "    <tr>\n",
       "      <th>2034</th>\n",
       "      <td>DAR-DIA-23aa0b97-11</td>\n",
       "      <td>DAR-DIA-23aa0b97-11</td>\n",
       "      <td>NaN</td>\n",
       "      <td>NaN</td>\n",
       "      <td>NaN</td>\n",
       "      <td>NaN</td>\n",
       "      <td>NaN</td>\n",
       "      <td>63.554925</td>\n",
       "      <td>NaN</td>\n",
       "      <td>NaN</td>\n",
       "      <td>NaN</td>\n",
       "      <td>99.0</td>\n",
       "      <td>NaN</td>\n",
       "      <td>False</td>\n",
       "      <td>False</td>\n",
       "      <td>3-aminopyridine-like</td>\n",
       "      <td>NaN</td>\n",
       "    </tr>\n",
       "    <tr>\n",
       "      <th>2035</th>\n",
       "      <td>DAR-DIA-23aa0b97-19</td>\n",
       "      <td>DAR-DIA-23aa0b97-19</td>\n",
       "      <td>NaN</td>\n",
       "      <td>NaN</td>\n",
       "      <td>14.641091</td>\n",
       "      <td>NaN</td>\n",
       "      <td>NaN</td>\n",
       "      <td>26.680129</td>\n",
       "      <td>NaN</td>\n",
       "      <td>NaN</td>\n",
       "      <td>NaN</td>\n",
       "      <td>NaN</td>\n",
       "      <td>NaN</td>\n",
       "      <td>False</td>\n",
       "      <td>False</td>\n",
       "      <td>3-aminopyridine-like</td>\n",
       "      <td>NaN</td>\n",
       "    </tr>\n",
       "    <tr>\n",
       "      <th>2036</th>\n",
       "      <td>DAR-DIA-23aa0b97-20</td>\n",
       "      <td>DAR-DIA-23aa0b97-20</td>\n",
       "      <td>NaN</td>\n",
       "      <td>NaN</td>\n",
       "      <td>45.077469</td>\n",
       "      <td>NaN</td>\n",
       "      <td>NaN</td>\n",
       "      <td>57.469670</td>\n",
       "      <td>NaN</td>\n",
       "      <td>NaN</td>\n",
       "      <td>NaN</td>\n",
       "      <td>99.0</td>\n",
       "      <td>NaN</td>\n",
       "      <td>False</td>\n",
       "      <td>False</td>\n",
       "      <td>3-aminopyridine-like</td>\n",
       "      <td>x2563</td>\n",
       "    </tr>\n",
       "  </tbody>\n",
       "</table>\n",
       "<p>2037 rows × 17 columns</p>\n",
       "</div>"
      ],
      "text/plain": [
       "                      CID        canonical_CID  r_inhibition_at_20_uM  \\\n",
       "0      MAT-POS-be048f2c-5   MAT-POS-be048f2c-5                    NaN   \n",
       "1      EDJ-MED-cc48ee33-4   EDJ-MED-cc48ee33-4                    NaN   \n",
       "2      EDJ-MED-cc48ee33-5   EDJ-MED-cc48ee33-5                    NaN   \n",
       "3      MIK-UNK-58cd43d0-1   MIK-UNK-58cd43d0-1                    NaN   \n",
       "4      MIK-UNK-78dbf1b8-1   MIK-UNK-78dbf1b8-1                    NaN   \n",
       "...                   ...                  ...                    ...   \n",
       "2032   WAR-XCH-eb7b662f-2   WAR-XCH-eb7b662f-2                    NaN   \n",
       "2033   DAR-DIA-23aa0b97-8   DAR-DIA-23aa0b97-8                    NaN   \n",
       "2034  DAR-DIA-23aa0b97-11  DAR-DIA-23aa0b97-11                    NaN   \n",
       "2035  DAR-DIA-23aa0b97-19  DAR-DIA-23aa0b97-19                    NaN   \n",
       "2036  DAR-DIA-23aa0b97-20  DAR-DIA-23aa0b97-20                    NaN   \n",
       "\n",
       "      r_inhibition_at_50_uM  r_avg_IC50  f_inhibition_at_20_uM  \\\n",
       "0                       NaN         NaN                    NaN   \n",
       "1                       NaN         NaN                    NaN   \n",
       "2                       NaN         NaN                    NaN   \n",
       "3                       NaN         NaN                    NaN   \n",
       "4                       NaN         NaN                    NaN   \n",
       "...                     ...         ...                    ...   \n",
       "2032                    NaN         NaN                    NaN   \n",
       "2033                    NaN         NaN                    NaN   \n",
       "2034                    NaN         NaN                    NaN   \n",
       "2035                    NaN   14.641091                    NaN   \n",
       "2036                    NaN   45.077469                    NaN   \n",
       "\n",
       "      f_inhibition_at_50_uM  f_avg_IC50  f_avg_pIC50  \\\n",
       "0                       NaN    0.297012          NaN   \n",
       "1                       NaN    0.682988          NaN   \n",
       "2                       NaN    0.463982          NaN   \n",
       "3                       NaN    0.723365          NaN   \n",
       "4                       NaN    0.205139          NaN   \n",
       "...                     ...         ...          ...   \n",
       "2032                    NaN   99.010000          NaN   \n",
       "2033                    NaN   54.272964          NaN   \n",
       "2034                    NaN   63.554925          NaN   \n",
       "2035                    NaN   26.680129          NaN   \n",
       "2036                    NaN   57.469670          NaN   \n",
       "\n",
       "      relative_solubility_at_20_uM  relative_solubility_at_100_uM  \\\n",
       "0                              NaN                            NaN   \n",
       "1                              NaN                            NaN   \n",
       "2                              NaN                            NaN   \n",
       "3                              NaN                            NaN   \n",
       "4                              NaN                            NaN   \n",
       "...                            ...                            ...   \n",
       "2032                           NaN                            NaN   \n",
       "2033                           NaN                            NaN   \n",
       "2034                           NaN                            NaN   \n",
       "2035                           NaN                            NaN   \n",
       "2036                           NaN                            NaN   \n",
       "\n",
       "      trypsin_IC50  NMR_std_ratio acrylamide chloroacetamide  \\\n",
       "0              NaN            NaN      False           False   \n",
       "1              NaN            NaN      False           False   \n",
       "2              NaN            NaN      False           False   \n",
       "3              NaN            NaN      False           False   \n",
       "4              NaN            NaN      False           False   \n",
       "...            ...            ...        ...             ...   \n",
       "2032          99.0            NaN      False           False   \n",
       "2033          99.0            NaN      False           False   \n",
       "2034          99.0            NaN      False           False   \n",
       "2035           NaN            NaN      False           False   \n",
       "2036          99.0            NaN      False           False   \n",
       "\n",
       "                    series frag_id  \n",
       "0     3-aminopyridine-like     NaN  \n",
       "1     3-aminopyridine-like     NaN  \n",
       "2     3-aminopyridine-like     NaN  \n",
       "3     3-aminopyridine-like     NaN  \n",
       "4     3-aminopyridine-like     NaN  \n",
       "...                    ...     ...  \n",
       "2032  3-aminopyridine-like     NaN  \n",
       "2033  3-aminopyridine-like     NaN  \n",
       "2034  3-aminopyridine-like     NaN  \n",
       "2035  3-aminopyridine-like     NaN  \n",
       "2036  3-aminopyridine-like   x2563  \n",
       "\n",
       "[2037 rows x 17 columns]"
      ]
     },
     "execution_count": 15,
     "metadata": {},
     "output_type": "execute_result"
    }
   ],
   "source": [
    "df_assay"
   ]
  },
  {
   "cell_type": "code",
   "execution_count": 16,
   "metadata": {},
   "outputs": [
    {
     "data": {
      "text/html": [
       "<div>\n",
       "<style scoped>\n",
       "    .dataframe tbody tr th:only-of-type {\n",
       "        vertical-align: middle;\n",
       "    }\n",
       "\n",
       "    .dataframe tbody tr th {\n",
       "        vertical-align: top;\n",
       "    }\n",
       "\n",
       "    .dataframe thead th {\n",
       "        text-align: right;\n",
       "    }\n",
       "</style>\n",
       "<table border=\"1\" class=\"dataframe\">\n",
       "  <thead>\n",
       "    <tr style=\"text-align: right;\">\n",
       "      <th></th>\n",
       "      <th>CID</th>\n",
       "      <th>canonical_CID</th>\n",
       "      <th>r_inhibition_at_20_uM</th>\n",
       "      <th>r_inhibition_at_50_uM</th>\n",
       "      <th>r_avg_IC50</th>\n",
       "      <th>f_inhibition_at_20_uM</th>\n",
       "      <th>f_inhibition_at_50_uM</th>\n",
       "      <th>f_avg_IC50</th>\n",
       "      <th>f_avg_pIC50</th>\n",
       "      <th>relative_solubility_at_20_uM</th>\n",
       "      <th>relative_solubility_at_100_uM</th>\n",
       "      <th>trypsin_IC50</th>\n",
       "      <th>NMR_std_ratio</th>\n",
       "      <th>acrylamide</th>\n",
       "      <th>chloroacetamide</th>\n",
       "      <th>series</th>\n",
       "      <th>frag_id</th>\n",
       "      <th>pIC50</th>\n",
       "    </tr>\n",
       "  </thead>\n",
       "  <tbody>\n",
       "    <tr>\n",
       "      <th>0</th>\n",
       "      <td>MAT-POS-be048f2c-5</td>\n",
       "      <td>MAT-POS-be048f2c-5</td>\n",
       "      <td>NaN</td>\n",
       "      <td>NaN</td>\n",
       "      <td>NaN</td>\n",
       "      <td>NaN</td>\n",
       "      <td>NaN</td>\n",
       "      <td>0.297012</td>\n",
       "      <td>NaN</td>\n",
       "      <td>NaN</td>\n",
       "      <td>NaN</td>\n",
       "      <td>NaN</td>\n",
       "      <td>NaN</td>\n",
       "      <td>False</td>\n",
       "      <td>False</td>\n",
       "      <td>3-aminopyridine-like</td>\n",
       "      <td>NaN</td>\n",
       "      <td>0.527226</td>\n",
       "    </tr>\n",
       "    <tr>\n",
       "      <th>1</th>\n",
       "      <td>EDJ-MED-cc48ee33-4</td>\n",
       "      <td>EDJ-MED-cc48ee33-4</td>\n",
       "      <td>NaN</td>\n",
       "      <td>NaN</td>\n",
       "      <td>NaN</td>\n",
       "      <td>NaN</td>\n",
       "      <td>NaN</td>\n",
       "      <td>0.682988</td>\n",
       "      <td>NaN</td>\n",
       "      <td>NaN</td>\n",
       "      <td>NaN</td>\n",
       "      <td>NaN</td>\n",
       "      <td>NaN</td>\n",
       "      <td>False</td>\n",
       "      <td>False</td>\n",
       "      <td>3-aminopyridine-like</td>\n",
       "      <td>NaN</td>\n",
       "      <td>0.165587</td>\n",
       "    </tr>\n",
       "    <tr>\n",
       "      <th>2</th>\n",
       "      <td>EDJ-MED-cc48ee33-5</td>\n",
       "      <td>EDJ-MED-cc48ee33-5</td>\n",
       "      <td>NaN</td>\n",
       "      <td>NaN</td>\n",
       "      <td>NaN</td>\n",
       "      <td>NaN</td>\n",
       "      <td>NaN</td>\n",
       "      <td>0.463982</td>\n",
       "      <td>NaN</td>\n",
       "      <td>NaN</td>\n",
       "      <td>NaN</td>\n",
       "      <td>NaN</td>\n",
       "      <td>NaN</td>\n",
       "      <td>False</td>\n",
       "      <td>False</td>\n",
       "      <td>3-aminopyridine-like</td>\n",
       "      <td>NaN</td>\n",
       "      <td>0.333499</td>\n",
       "    </tr>\n",
       "    <tr>\n",
       "      <th>3</th>\n",
       "      <td>MIK-UNK-58cd43d0-1</td>\n",
       "      <td>MIK-UNK-58cd43d0-1</td>\n",
       "      <td>NaN</td>\n",
       "      <td>NaN</td>\n",
       "      <td>NaN</td>\n",
       "      <td>NaN</td>\n",
       "      <td>NaN</td>\n",
       "      <td>0.723365</td>\n",
       "      <td>NaN</td>\n",
       "      <td>NaN</td>\n",
       "      <td>NaN</td>\n",
       "      <td>NaN</td>\n",
       "      <td>NaN</td>\n",
       "      <td>False</td>\n",
       "      <td>False</td>\n",
       "      <td>3-aminopyridine-like</td>\n",
       "      <td>NaN</td>\n",
       "      <td>0.140643</td>\n",
       "    </tr>\n",
       "    <tr>\n",
       "      <th>4</th>\n",
       "      <td>MIK-UNK-78dbf1b8-1</td>\n",
       "      <td>MIK-UNK-78dbf1b8-1</td>\n",
       "      <td>NaN</td>\n",
       "      <td>NaN</td>\n",
       "      <td>NaN</td>\n",
       "      <td>NaN</td>\n",
       "      <td>NaN</td>\n",
       "      <td>0.205139</td>\n",
       "      <td>NaN</td>\n",
       "      <td>NaN</td>\n",
       "      <td>NaN</td>\n",
       "      <td>NaN</td>\n",
       "      <td>NaN</td>\n",
       "      <td>False</td>\n",
       "      <td>False</td>\n",
       "      <td>3-aminopyridine-like</td>\n",
       "      <td>NaN</td>\n",
       "      <td>0.687953</td>\n",
       "    </tr>\n",
       "    <tr>\n",
       "      <th>...</th>\n",
       "      <td>...</td>\n",
       "      <td>...</td>\n",
       "      <td>...</td>\n",
       "      <td>...</td>\n",
       "      <td>...</td>\n",
       "      <td>...</td>\n",
       "      <td>...</td>\n",
       "      <td>...</td>\n",
       "      <td>...</td>\n",
       "      <td>...</td>\n",
       "      <td>...</td>\n",
       "      <td>...</td>\n",
       "      <td>...</td>\n",
       "      <td>...</td>\n",
       "      <td>...</td>\n",
       "      <td>...</td>\n",
       "      <td>...</td>\n",
       "      <td>...</td>\n",
       "    </tr>\n",
       "    <tr>\n",
       "      <th>2032</th>\n",
       "      <td>WAR-XCH-eb7b662f-2</td>\n",
       "      <td>WAR-XCH-eb7b662f-2</td>\n",
       "      <td>NaN</td>\n",
       "      <td>NaN</td>\n",
       "      <td>NaN</td>\n",
       "      <td>NaN</td>\n",
       "      <td>NaN</td>\n",
       "      <td>99.010000</td>\n",
       "      <td>NaN</td>\n",
       "      <td>NaN</td>\n",
       "      <td>NaN</td>\n",
       "      <td>99.0</td>\n",
       "      <td>NaN</td>\n",
       "      <td>False</td>\n",
       "      <td>False</td>\n",
       "      <td>3-aminopyridine-like</td>\n",
       "      <td>NaN</td>\n",
       "      <td>-1.995679</td>\n",
       "    </tr>\n",
       "    <tr>\n",
       "      <th>2033</th>\n",
       "      <td>DAR-DIA-23aa0b97-8</td>\n",
       "      <td>DAR-DIA-23aa0b97-8</td>\n",
       "      <td>NaN</td>\n",
       "      <td>NaN</td>\n",
       "      <td>NaN</td>\n",
       "      <td>NaN</td>\n",
       "      <td>NaN</td>\n",
       "      <td>54.272964</td>\n",
       "      <td>NaN</td>\n",
       "      <td>NaN</td>\n",
       "      <td>NaN</td>\n",
       "      <td>99.0</td>\n",
       "      <td>NaN</td>\n",
       "      <td>False</td>\n",
       "      <td>False</td>\n",
       "      <td>3-aminopyridine-like</td>\n",
       "      <td>NaN</td>\n",
       "      <td>-1.734584</td>\n",
       "    </tr>\n",
       "    <tr>\n",
       "      <th>2034</th>\n",
       "      <td>DAR-DIA-23aa0b97-11</td>\n",
       "      <td>DAR-DIA-23aa0b97-11</td>\n",
       "      <td>NaN</td>\n",
       "      <td>NaN</td>\n",
       "      <td>NaN</td>\n",
       "      <td>NaN</td>\n",
       "      <td>NaN</td>\n",
       "      <td>63.554925</td>\n",
       "      <td>NaN</td>\n",
       "      <td>NaN</td>\n",
       "      <td>NaN</td>\n",
       "      <td>99.0</td>\n",
       "      <td>NaN</td>\n",
       "      <td>False</td>\n",
       "      <td>False</td>\n",
       "      <td>3-aminopyridine-like</td>\n",
       "      <td>NaN</td>\n",
       "      <td>-1.803149</td>\n",
       "    </tr>\n",
       "    <tr>\n",
       "      <th>2035</th>\n",
       "      <td>DAR-DIA-23aa0b97-19</td>\n",
       "      <td>DAR-DIA-23aa0b97-19</td>\n",
       "      <td>NaN</td>\n",
       "      <td>NaN</td>\n",
       "      <td>14.641091</td>\n",
       "      <td>NaN</td>\n",
       "      <td>NaN</td>\n",
       "      <td>26.680129</td>\n",
       "      <td>NaN</td>\n",
       "      <td>NaN</td>\n",
       "      <td>NaN</td>\n",
       "      <td>NaN</td>\n",
       "      <td>NaN</td>\n",
       "      <td>False</td>\n",
       "      <td>False</td>\n",
       "      <td>3-aminopyridine-like</td>\n",
       "      <td>NaN</td>\n",
       "      <td>-1.426188</td>\n",
       "    </tr>\n",
       "    <tr>\n",
       "      <th>2036</th>\n",
       "      <td>DAR-DIA-23aa0b97-20</td>\n",
       "      <td>DAR-DIA-23aa0b97-20</td>\n",
       "      <td>NaN</td>\n",
       "      <td>NaN</td>\n",
       "      <td>45.077469</td>\n",
       "      <td>NaN</td>\n",
       "      <td>NaN</td>\n",
       "      <td>57.469670</td>\n",
       "      <td>NaN</td>\n",
       "      <td>NaN</td>\n",
       "      <td>NaN</td>\n",
       "      <td>99.0</td>\n",
       "      <td>NaN</td>\n",
       "      <td>False</td>\n",
       "      <td>False</td>\n",
       "      <td>3-aminopyridine-like</td>\n",
       "      <td>x2563</td>\n",
       "      <td>-1.759439</td>\n",
       "    </tr>\n",
       "  </tbody>\n",
       "</table>\n",
       "<p>2037 rows × 18 columns</p>\n",
       "</div>"
      ],
      "text/plain": [
       "                      CID        canonical_CID  r_inhibition_at_20_uM  \\\n",
       "0      MAT-POS-be048f2c-5   MAT-POS-be048f2c-5                    NaN   \n",
       "1      EDJ-MED-cc48ee33-4   EDJ-MED-cc48ee33-4                    NaN   \n",
       "2      EDJ-MED-cc48ee33-5   EDJ-MED-cc48ee33-5                    NaN   \n",
       "3      MIK-UNK-58cd43d0-1   MIK-UNK-58cd43d0-1                    NaN   \n",
       "4      MIK-UNK-78dbf1b8-1   MIK-UNK-78dbf1b8-1                    NaN   \n",
       "...                   ...                  ...                    ...   \n",
       "2032   WAR-XCH-eb7b662f-2   WAR-XCH-eb7b662f-2                    NaN   \n",
       "2033   DAR-DIA-23aa0b97-8   DAR-DIA-23aa0b97-8                    NaN   \n",
       "2034  DAR-DIA-23aa0b97-11  DAR-DIA-23aa0b97-11                    NaN   \n",
       "2035  DAR-DIA-23aa0b97-19  DAR-DIA-23aa0b97-19                    NaN   \n",
       "2036  DAR-DIA-23aa0b97-20  DAR-DIA-23aa0b97-20                    NaN   \n",
       "\n",
       "      r_inhibition_at_50_uM  r_avg_IC50  f_inhibition_at_20_uM  \\\n",
       "0                       NaN         NaN                    NaN   \n",
       "1                       NaN         NaN                    NaN   \n",
       "2                       NaN         NaN                    NaN   \n",
       "3                       NaN         NaN                    NaN   \n",
       "4                       NaN         NaN                    NaN   \n",
       "...                     ...         ...                    ...   \n",
       "2032                    NaN         NaN                    NaN   \n",
       "2033                    NaN         NaN                    NaN   \n",
       "2034                    NaN         NaN                    NaN   \n",
       "2035                    NaN   14.641091                    NaN   \n",
       "2036                    NaN   45.077469                    NaN   \n",
       "\n",
       "      f_inhibition_at_50_uM  f_avg_IC50  f_avg_pIC50  \\\n",
       "0                       NaN    0.297012          NaN   \n",
       "1                       NaN    0.682988          NaN   \n",
       "2                       NaN    0.463982          NaN   \n",
       "3                       NaN    0.723365          NaN   \n",
       "4                       NaN    0.205139          NaN   \n",
       "...                     ...         ...          ...   \n",
       "2032                    NaN   99.010000          NaN   \n",
       "2033                    NaN   54.272964          NaN   \n",
       "2034                    NaN   63.554925          NaN   \n",
       "2035                    NaN   26.680129          NaN   \n",
       "2036                    NaN   57.469670          NaN   \n",
       "\n",
       "      relative_solubility_at_20_uM  relative_solubility_at_100_uM  \\\n",
       "0                              NaN                            NaN   \n",
       "1                              NaN                            NaN   \n",
       "2                              NaN                            NaN   \n",
       "3                              NaN                            NaN   \n",
       "4                              NaN                            NaN   \n",
       "...                            ...                            ...   \n",
       "2032                           NaN                            NaN   \n",
       "2033                           NaN                            NaN   \n",
       "2034                           NaN                            NaN   \n",
       "2035                           NaN                            NaN   \n",
       "2036                           NaN                            NaN   \n",
       "\n",
       "      trypsin_IC50  NMR_std_ratio acrylamide chloroacetamide  \\\n",
       "0              NaN            NaN      False           False   \n",
       "1              NaN            NaN      False           False   \n",
       "2              NaN            NaN      False           False   \n",
       "3              NaN            NaN      False           False   \n",
       "4              NaN            NaN      False           False   \n",
       "...            ...            ...        ...             ...   \n",
       "2032          99.0            NaN      False           False   \n",
       "2033          99.0            NaN      False           False   \n",
       "2034          99.0            NaN      False           False   \n",
       "2035           NaN            NaN      False           False   \n",
       "2036          99.0            NaN      False           False   \n",
       "\n",
       "                    series frag_id     pIC50  \n",
       "0     3-aminopyridine-like     NaN  0.527226  \n",
       "1     3-aminopyridine-like     NaN  0.165587  \n",
       "2     3-aminopyridine-like     NaN  0.333499  \n",
       "3     3-aminopyridine-like     NaN  0.140643  \n",
       "4     3-aminopyridine-like     NaN  0.687953  \n",
       "...                    ...     ...       ...  \n",
       "2032  3-aminopyridine-like     NaN -1.995679  \n",
       "2033  3-aminopyridine-like     NaN -1.734584  \n",
       "2034  3-aminopyridine-like     NaN -1.803149  \n",
       "2035  3-aminopyridine-like     NaN -1.426188  \n",
       "2036  3-aminopyridine-like   x2563 -1.759439  \n",
       "\n",
       "[2037 rows x 18 columns]"
      ]
     },
     "execution_count": 16,
     "metadata": {},
     "output_type": "execute_result"
    }
   ],
   "source": [
    "df_assay['pIC50'] = AnalysisMethods.pIC50(df_assay)\n",
    "df_assay"
   ]
  },
  {
   "cell_type": "code",
   "execution_count": null,
   "metadata": {},
   "outputs": [],
   "source": []
  },
  {
   "cell_type": "code",
   "execution_count": 17,
   "metadata": {},
   "outputs": [
    {
     "data": {
      "text/plain": [
       "(array([673., 199., 202., 221., 220., 193., 154.,  36.,   2.,   1.]),\n",
       " array([-2.29666519, -1.80961671, -1.32256822, -0.83551974, -0.34847126,\n",
       "         0.13857723,  0.62562571,  1.1126742 ,  1.59972268,  2.08677116,\n",
       "         2.57381965]),\n",
       " <BarContainer object of 10 artists>)"
      ]
     },
     "execution_count": 17,
     "metadata": {},
     "output_type": "execute_result"
    },
    {
     "data": {
      "image/png": "[encoded data removed]",
      "text/plain": [
       "<Figure size 432x288 with 1 Axes>"
      ]
     },
     "metadata": {
      "needs_background": "light"
     },
     "output_type": "display_data"
    }
   ],
   "source": [
    "fix, ax = plt.subplots(1)\n",
    "ax.hist(df_assay['pIC50'])"
   ]
  },
  {
   "cell_type": "markdown",
   "metadata": {},
   "source": [
    "This isn't normally distrbibuted - therefore, could 'class_weight='balanced' - or, could use tree-based models that perform well on imbalanced datsets as their hierarchcial strucutre alllows them to learn signals from both classses"
   ]
  },
  {
   "cell_type": "markdown",
   "metadata": {},
   "source": [
    "## Lipinski molecules\n",
    "\n",
    "This section identifies all molecules that satisfy all criteria of Lipinski's rule of five - for bioavaliable small molecules\n",
    "\n",
    "* 5 or fewer hydrogen bond donors;\n",
    "* 10 or fewer hydrogen bond acceptors;\n",
    "* A molecular weight (MW) of less than 500 Daltons;\n",
    "* An octanol-water partition coefficient (log $P_{o/w}$) of less than 5. Larger log $P_{o/w}$ means\n",
    "more lipophilic (i.e., less water soluble).\n",
    "\n"
   ]
  },
  {
   "cell_type": "code",
   "execution_count": 18,
   "metadata": {},
   "outputs": [
    {
     "name": "stdout",
     "output_type": "stream",
     "text": [
      "Selected 1528 molecules out of 2037.\n"
     ]
    }
   ],
   "source": [
    "# Lipinski molecules\n",
    "\n",
    "def lipinski_mol(df):\n",
    "    \"\"\"Determines whether a molecule in dataframe follows Lipinski rules\"\"\"\n",
    "    few_hb_donor = (df[\"H_donors\"] <= 5)\n",
    "    few_hb_acceptor = (df[\"H_acceptors\"] <= 10)\n",
    "    low_MW = (df[\"MW\"] < 500)\n",
    "    low_pc = (df[\"LogP\"] < 5) \n",
    "    return (few_hb_acceptor & few_hb_donor & low_MW & low_pc)\n",
    "\n",
    "def select_lipinski(df, rule = lipinski_mol):\n",
    "    \"\"\"Removes compounds from database which don't follow Lipinski rules\"\"\"\n",
    "    df_lip = analyser.analyse_compounds(df, df, 'lipinski_mol', rule)\n",
    "    # df is passed twice, as it contains the data to operate on, and also is the dataframe to add output to\n",
    "    df_lip.drop(df_lip[df_lip.lipinski_mol == False].index, inplace=True)\n",
    "    df_lip.drop(columns = ['lipinski_mol'], inplace=True)  # As all values are now true so column is defunct\n",
    "    return df_lip\n",
    "\n",
    "df_lip_compounds = select_lipinski(df_compounds.copy())\n",
    "\n",
    "print(f\"Selected {df_lip_compounds.shape[0]} molecules out of {df_compounds.shape[0]}.\")\n"
   ]
  },
  {
   "cell_type": "code",
   "execution_count": 19,
   "metadata": {},
   "outputs": [
    {
     "name": "stdout",
     "output_type": "stream",
     "text": [
      "Remaining: 1528 assays out of 2037.\n"
     ]
    }
   ],
   "source": [
    "def select_lipinski_assay(df_c, df_a, rule = lipinski_mol):\n",
    "    \"\"\"Removes assay corresponding to compounds from database which don't follow Lipinski rules\"\"\"\n",
    "    df_lip = analyser.analyse_compounds(df_c, df_c, 'lipinski_mol', rule)\n",
    "    df_a['lipinski_mol'] = df_lip['lipinski_mol']\n",
    "    df_a.drop(df_a[df_a.lipinski_mol == False].index, inplace=True)\n",
    "    df_a.drop(columns = ['lipinski_mol'], inplace=True)  # As all values are now true so column is defunct\n",
    "    return df_a\n",
    "\n",
    "df_lip_assays = select_lipinski_assay(df_compounds.copy(), df_assay.copy())\n",
    "\n",
    "print(f\"Remaining: {df_lip_compounds.shape[0]} assays out of {df_compounds.shape[0]}.\")"
   ]
  },
  {
   "cell_type": "code",
   "execution_count": 20,
   "metadata": {},
   "outputs": [
    {
     "data": {
      "image/png": "[encoded data removed]",
      "text/plain": [
       "<Figure size 432x288 with 1 Axes>"
      ]
     },
     "metadata": {
      "needs_background": "light"
     },
     "output_type": "display_data"
    },
    {
     "data": {
      "image/png": "[encoded data removed]",
      "text/plain": [
       "<Figure size 432x288 with 1 Axes>"
      ]
     },
     "metadata": {
      "needs_background": "light"
     },
     "output_type": "display_data"
    }
   ],
   "source": [
    "# Representation of Lipinski molecules in sample space\n",
    "\n",
    "def compare_dataframe_pair(df_1, df_2, x_var, y_var, subset_name = 'Lipinski Molecules'):\n",
    "    try:\n",
    "        fig, ax = plt.subplots()\n",
    "        df_1.plot(x=x_var, y=y_var, ax=ax, style='o', color = 'grey', label = 'Molecule Space')\n",
    "        df_2.plot(x=x_var, y=y_var, ax=ax, style='o', color = 'g', label = subset_name) \n",
    "        ax.set_ylabel(y_var); ax.legend()\n",
    "    except KeyError as k:\n",
    "        print(f\"Column name {k} does not exist in dataframe\")\n",
    "            \n",
    "\n",
    "compare_dataframe_pair(df_compounds, df_lip_compounds, 'H_acceptors', 'H_donors')\n",
    "compare_dataframe_pair(df_compounds, df_lip_compounds, 'MW', 'LogP')"
   ]
  },
  {
   "cell_type": "markdown",
   "metadata": {},
   "source": [
    "Note that the MW and $P_{o/w}$ are the most significant factors in determining whether a molecule satifes the Lipinski conditions, with the hydrogen bond acceptor and donor limits ruling out very few molecules that have not been ruled out by these factors.\n",
    "\n",
    "## Relaxed Lipinski conditions\n",
    "\n",
    "We may also consider the subset of molecules that satisfy at least three of the Lipinski conditions, as shown below:"
   ]
  },
  {
   "cell_type": "code",
   "execution_count": 21,
   "metadata": {},
   "outputs": [
    {
     "name": "stdout",
     "output_type": "stream",
     "text": [
      "Selected 1950 molecules out of 2037.\n"
     ]
    }
   ],
   "source": [
    "def relaxed_lipinski(df):\n",
    "    \"\"\"Determines whether a molecule in dataframe follows all but one Lipinski rules\"\"\"\n",
    "    few_hb_donor = (df[\"H_donors\"] <= 5) * 1  # (* 1) to convert to int\n",
    "    few_hb_acceptor = (df[\"H_acceptors\"] <= 10) * 1\n",
    "    low_MW = (df[\"MW\"] < 500) * 1\n",
    "    low_pc = (df[\"LogP\"] < 5) * 1\n",
    "    accepted_cond = few_hb_acceptor + few_hb_donor + low_MW + low_pc\n",
    "    return (accepted_cond >= 3)\n",
    "\n",
    "df_rlip_compounds = select_lipinski(df_compounds.copy(), rule=relaxed_lipinski)\n",
    "\n",
    "print(f\"Selected {df_rlip_compounds.shape[0]} molecules out of {df_compounds.shape[0]}.\")\n",
    "\n"
   ]
  },
  {
   "cell_type": "markdown",
   "metadata": {},
   "source": [
    "We see that this new criterion includes a further 422 molecules, compared to the stricter condition where all Lipinski conditions must be passed. We expect from our previous work that most of these new molecules will have broken the MW or $P_{o/w}$ conditions, but may verify this graphically."
   ]
  },
  {
   "cell_type": "code",
   "execution_count": 22,
   "metadata": {},
   "outputs": [
    {
     "data": {
      "image/png": "[encoded data removed]",
      "text/plain": [
       "<Figure size 432x288 with 1 Axes>"
      ]
     },
     "metadata": {
      "needs_background": "light"
     },
     "output_type": "display_data"
    },
    {
     "data": {
      "image/png": "[encoded data removed]",
      "text/plain": [
       "<Figure size 432x288 with 1 Axes>"
      ]
     },
     "metadata": {
      "needs_background": "light"
     },
     "output_type": "display_data"
    }
   ],
   "source": [
    "def compare_dataframe_trio(df_1, df_2, df_3, x_var, y_var):\n",
    "    try:\n",
    "        fig, ax = plt.subplots()\n",
    "        df_1.plot(x=x_var, y=y_var, ax=ax, style='o', color = 'grey', label = 'Molecule Space')\n",
    "        df_2.plot(x=x_var, y=y_var, ax=ax, style='o', color = 'blue', label = 'Relaxed Lipinski Molecules') \n",
    "        df_3.plot(x=x_var, y=y_var, ax=ax, style='o', color = 'g', label = 'Lipinski Molecules') \n",
    "        ax.set_ylabel(y_var); ax.legend()\n",
    "    except KeyError as k:\n",
    "        print(f\"Column name {k} does not exist in dataframe\")\n",
    "            \n",
    "\n",
    "compare_dataframe_trio(df_compounds, df_rlip_compounds, df_lip_compounds, 'H_acceptors', 'H_donors')\n",
    "compare_dataframe_trio(df_compounds, df_rlip_compounds, df_lip_compounds, 'MW', 'LogP')"
   ]
  },
  {
   "cell_type": "markdown",
   "metadata": {},
   "source": [
    "As expected, we see two new tranches of molecules (in blue) on the MW/$P_{o/w}$ plot, that have been accepted under the new relaxed conditions. In general, outliers that lie further from the main cluster have not been accepted - these heavier molecules are more likely to fail the hydrogben bond donor/acceptor conditions, as they contain more functional groups. \n",
    "\n",
    "We may also consider the distribution of these compounds across subspaces of other assay data:"
   ]
  },
  {
   "cell_type": "code",
   "execution_count": 23,
   "metadata": {},
   "outputs": [
    {
     "data": {
      "image/png": "[encoded data removed]",
      "text/plain": [
       "<Figure size 432x288 with 1 Axes>"
      ]
     },
     "metadata": {
      "needs_background": "light"
     },
     "output_type": "display_data"
    },
    {
     "data": {
      "image/png": "[encoded data removed]",
      "text/plain": [
       "<Figure size 432x288 with 1 Axes>"
      ]
     },
     "metadata": {
      "needs_background": "light"
     },
     "output_type": "display_data"
    },
    {
     "data": {
      "image/png": "[encoded data removed]",
      "text/plain": [
       "<Figure size 432x288 with 1 Axes>"
      ]
     },
     "metadata": {
      "needs_background": "light"
     },
     "output_type": "display_data"
    },
    {
     "data": {
      "image/png": "[encoded data removed]",
      "text/plain": [
       "<Figure size 432x288 with 1 Axes>"
      ]
     },
     "metadata": {
      "needs_background": "light"
     },
     "output_type": "display_data"
    }
   ],
   "source": [
    "compare_dataframe_trio(df_compounds, df_rlip_compounds, df_lip_compounds, 'NHOH_count', 'NO_count')\n",
    "compare_dataframe_trio(df_compounds, df_rlip_compounds, df_lip_compounds, 'Heavy_atoms', 'Heavy_atom_mw')\n",
    "compare_dataframe_trio(df_compounds, df_rlip_compounds, df_lip_compounds, 'Rotatable_bonds', 'Valence_electonrs')\n",
    "compare_dataframe_trio(df_compounds, df_rlip_compounds, df_lip_compounds, 'Rings', 'TPSA')\n",
    "\n",
    "#tpsa is good, rings are not - compare tpsa to valence e?\n",
    "#nhoh is h bond donor, no is hydrogen bond acceptor"
   ]
  },
  {
   "cell_type": "code",
   "execution_count": 24,
   "metadata": {},
   "outputs": [
    {
     "name": "stdout",
     "output_type": "stream",
     "text": [
      "Index(['SMILES', 'H_acceptors', 'H_donors', 'MW', 'LogP', 'Heavy_atoms',\n",
      "       'Heavy_atom_mw', 'NHOH_count', 'NO_count', 'Rotatable_bonds',\n",
      "       'Valence_electonrs', 'Rings', 'TPSA', 'fingerprint'],\n",
      "      dtype='object')\n"
     ]
    }
   ],
   "source": [
    "print(df_lip_compounds.columns)\n"
   ]
  },
  {
   "cell_type": "markdown",
   "metadata": {},
   "source": [
    "## Clustering \n",
    "\n",
    "We have computed ECFP (Morgan) fingerprints with radius 2 and 2048 bits for each of the Moonshot compounds. We will then cluster the compounds using the Tanimoto (a.k.a. Jaccard) index. \n",
    "The remove zero size clusters?\n",
    "or remove zero variance bits and conduct pca analysis"
   ]
  },
  {
   "cell_type": "code",
   "execution_count": 25,
   "metadata": {},
   "outputs": [],
   "source": [
    "#Define clustering setup\n",
    "def ClusterFps(fps,cutoff=0.2):\n",
    "    from rdkit import DataStructs\n",
    "    from rdkit.ML.Cluster import Butina\n",
    "\n",
    "    # first generate the distance matrix:\n",
    "    dists = []\n",
    "    nfps = len(fps)\n",
    "    for i in range(1,nfps):\n",
    "        sims = DataStructs.BulkTanimotoSimilarity(fps[i],fps[:i])\n",
    "        dists.extend([1-x for x in sims])\n",
    "\n",
    "    # now cluster the data:\n",
    "    cs = Butina.ClusterData(dists,nfps,cutoff,isDistData=True)\n",
    "    return cs"
   ]
  },
  {
   "cell_type": "code",
   "execution_count": 26,
   "metadata": {},
   "outputs": [],
   "source": [
    "clusters=ClusterFps(df_compounds['fingerprint'],cutoff=0.322)  # for 95% confidence that clusters are different\n"
   ]
  },
  {
   "cell_type": "code",
   "execution_count": 27,
   "metadata": {},
   "outputs": [
    {
     "name": "stdout",
     "output_type": "stream",
     "text": [
      "Generated 911 with mean occupancy of 2.24 molecules\n"
     ]
    }
   ],
   "source": [
    "def cluster_size_dist(clusters):\n",
    "    \"\"\" Records the size of each cluster.\n",
    "    \"\"\"\n",
    "    cluster_sizes = []\n",
    "    for cluster in clusters:\n",
    "        cluster_sizes.append(len(cluster))\n",
    "    return cluster_sizes\n",
    "\n",
    "cluster_size_dist = cluster_size_dist(clusters)\n",
    "print(f\"Generated {len(clusters)} with mean occupancy of {sum(cluster_size_dist)/len(clusters):.2f} molecules\")"
   ]
  },
  {
   "cell_type": "markdown",
   "metadata": {},
   "source": [
    "Our clustering algorithm has generated a large number of clusters, with very few molecules per cluster. What does this mean though - are our molecules evenly spread between clusters?"
   ]
  },
  {
   "cell_type": "code",
   "execution_count": 28,
   "metadata": {},
   "outputs": [
    {
     "data": {
      "image/png": "[encoded data removed]",
      "text/plain": [
       "<Figure size 1008x432 with 2 Axes>"
      ]
     },
     "metadata": {
      "needs_background": "light"
     },
     "output_type": "display_data"
    }
   ],
   "source": [
    "plt.figure(figsize=(14,6))\n",
    "plt.subplot(121)\n",
    "hist, bins, _ = plt.hist(cluster_size_dist, bins=12)\n",
    "plt.xlabel('Cluster Size'); plt.ylabel('Frequency')\n",
    "plt.title(\"Linear Scale\")\n",
    "\n",
    "plt.subplot(122)\n",
    "logbins = np.logspace(np.log10(bins[0]),np.log10(bins[-1]),len(bins))\n",
    "plt.hist(cluster_size_dist, bins=logbins)\n",
    "plt.xscale('log'); plt.yscale('log')\n",
    "plt.xlabel('Cluster Size'); plt.ylabel('Frequency')\n",
    "plt.title(\"Log Scale\")\n",
    "\n",
    "plt.show()"
   ]
  },
  {
   "cell_type": "markdown",
   "metadata": {},
   "source": [
    "From the linear histogram, it is clear that the vast majority of the clusters are small; in fact the log scale shows the frequency of clusters decreases almost exponentially with size. We believe this over-representation of small clusters is a result of an extremely diverse dataset, with many unique molecules unrelated to others in the dataset (and a small number of well clustered molecules, ie derived from the same scaffold)."
   ]
  },
  {
   "cell_type": "code",
   "execution_count": 29,
   "metadata": {},
   "outputs": [],
   "source": [
    "# find features associated with the most common clusters, and display graphically.\n",
    "# remove molecules in smallest clusters and recluster?\n",
    "# or remove zero variance bits in fingerprint and repeat."
   ]
  },
  {
   "cell_type": "code",
   "execution_count": 30,
   "metadata": {},
   "outputs": [
    {
     "name": "stdout",
     "output_type": "stream",
     "text": [
      "The largest cluster has 143 compounds.\n"
     ]
    }
   ],
   "source": [
    "def find_max_cluster(clusters):\n",
    "    \"\"\" Returns the largest cluster\n",
    "    \"\"\"\n",
    "    max_cluster = ()\n",
    "    for cluster in clusters:\n",
    "        if len(cluster) > len(max_cluster):\n",
    "            max_cluster = cluster\n",
    "    return max_cluster\n",
    "\n",
    "max_cluster = find_max_cluster(clusters)\n",
    "print(f\"The largest cluster has {len(max_cluster)} compounds.\")"
   ]
  },
  {
   "cell_type": "markdown",
   "metadata": {},
   "source": [
    "This cluster can be visualised within the sample space, for example in terms of MD and $P_{o/w}$:"
   ]
  },
  {
   "cell_type": "code",
   "execution_count": 31,
   "metadata": {},
   "outputs": [
    {
     "data": {
      "text/plain": [
       "('NHOH_count', 'NO_count')"
      ]
     },
     "execution_count": 31,
     "metadata": {},
     "output_type": "execute_result"
    },
    {
     "data": {
      "image/png": "[encoded data removed]",
      "text/plain": [
       "<Figure size 432x288 with 1 Axes>"
      ]
     },
     "metadata": {
      "needs_background": "light"
     },
     "output_type": "display_data"
    },
    {
     "data": {
      "image/png": "[encoded data removed]",
      "text/plain": [
       "<Figure size 432x288 with 1 Axes>"
      ]
     },
     "metadata": {
      "needs_background": "light"
     },
     "output_type": "display_data"
    },
    {
     "data": {
      "image/png": "[encoded data removed]",
      "text/plain": [
       "<Figure size 432x288 with 1 Axes>"
      ]
     },
     "metadata": {
      "needs_background": "light"
     },
     "output_type": "display_data"
    }
   ],
   "source": [
    "compare_dataframe_pair(df_compounds, df_compounds.iloc[list(max_cluster),], 'MW', 'LogP', subset_name='Largest Cluster')\n",
    "compare_dataframe_pair(df_compounds, df_compounds.iloc[list(max_cluster),], 'NHOH_count', 'NO_count', subset_name='Largest Cluster')\n",
    "compare_dataframe_pair(df_compounds, df_compounds.iloc[list(max_cluster),], 'TPSA', 'Valence_electonrs', subset_name='Largest Cluster')\n",
    "\n",
    "'NHOH_count', 'NO_count'"
   ]
  },
  {
   "cell_type": "markdown",
   "metadata": {},
   "source": [
    "We may also visualise molecules from the cluster, using RDKit's built-in drawer:"
   ]
  },
  {
   "cell_type": "code",
   "execution_count": 32,
   "metadata": {},
   "outputs": [
    {
     "data": {
      "image/png": "[encoded data removed]",
      "text/plain": [
       "<IPython.core.display.Image object>"
      ]
     },
     "execution_count": 32,
     "metadata": {},
     "output_type": "execute_result"
    }
   ],
   "source": [
    "n_molecule = 3\n",
    "cluster_mols=[]\n",
    "for i in range(n_molecule):\n",
    "    m = Chem.MolFromSmiles(df_compounds['SMILES'][max_cluster[i]])\n",
    "    cluster_mols.append(m)\n",
    "\n",
    "Draw.MolsToGridImage(cluster_mols)\n"
   ]
  },
  {
   "cell_type": "markdown",
   "metadata": {},
   "source": [
    "Here we can see a consistent molecular scafold, with different functional groups on the right hand side of the molecule."
   ]
  },
  {
   "cell_type": "markdown",
   "metadata": {},
   "source": [
    "# Machine Learning Models"
   ]
  },
  {
   "cell_type": "code",
   "execution_count": 33,
   "metadata": {},
   "outputs": [],
   "source": [
    "import seaborn as sns\n",
    "from sklearn.linear_model import LogisticRegression\n",
    "from sklearn.preprocessing import MinMaxScaler, StandardScaler, RobustScaler\n",
    "from sklearn.pipeline import Pipeline\n",
    "from sklearn.model_selection import train_test_split, KFold, GridSearchCV\n",
    "from sklearn.metrics import accuracy_score, average_precision_score, roc_auc_score\n",
    "from sklearn.metrics import precision_recall_curve, roc_curve, confusion_matrix\n",
    "from analysis_methods import AnalysisMethods\n",
    "from sklearn.tree import DecisionTreeClassifier\n",
    "from sklearn.pipeline import Pipeline\n",
    "from sklearn.model_selection import train_test_split, KFold, GridSearchCV\n",
    "from sklearn.metrics import accuracy_score, average_precision_score, roc_auc_score\n",
    "from sklearn.tree import export_graphviz\n",
    "import graphviz\n",
    "from sklearn.ensemble import RandomForestClassifier\n",
    "from analysis_methods import AnalysisMethods"
   ]
  },
  {
   "cell_type": "code",
   "execution_count": 34,
   "metadata": {},
   "outputs": [
    {
     "data": {
      "text/plain": [
       "0    0.509817\n",
       "1    0.490183\n",
       "Name: Hot_Activity, dtype: float64"
      ]
     },
     "execution_count": 34,
     "metadata": {},
     "output_type": "execute_result"
    }
   ],
   "source": [
    "data_array = df_lip_compounds[df_lip_compounds.columns[1:-1].to_numpy()]\n",
    "\n",
    "df_lip_assays['Active'] = AnalysisMethods.IC50_threshold(df_lip_assays)\n",
    "\n",
    "hot_encodes = []\n",
    "for i in df_lip_assays['Active']:\n",
    "    if i == True:\n",
    "        hot_encodes.append(1)\n",
    "    else:\n",
    "        hot_encodes.append(0)\n",
    "df_lip_assays['Hot_Activity'] = hot_encodes\n",
    "\n",
    "df_lip_assays['Hot_Activity'].value_counts(1)"
   ]
  },
  {
   "cell_type": "markdown",
   "metadata": {},
   "source": [
    "## Logistic Regression"
   ]
  },
  {
   "cell_type": "code",
   "execution_count": 35,
   "metadata": {},
   "outputs": [],
   "source": [
    "#create logistic regression pipeline with preprocessing (scaler and C)\n",
    "pipe = Pipeline([('preprocessing', StandardScaler()), ('classifier', LogisticRegression(max_iter=10000))])\n",
    "#generate parameter grid with preprocesssing and classifier parameters\n",
    "param_grid = {'preprocessing':[StandardScaler(), MinMaxScaler(), RobustScaler(), None],\n",
    "                'classifier__C': [0.0001, 0.001, 0.01, 1, 10, 100]}\n",
    "\n",
    "#split data into training and test sets\n",
    "X_train, X_test, y_train, y_test = train_test_split(data_array, df_lip_assays['Hot_Activity'], \n",
    "                                                        random_state=0)"
   ]
  },
  {
   "cell_type": "markdown",
   "metadata": {},
   "source": [
    "### 1) Grid Search for best performing preprocessing and parameters for Accuracy"
   ]
  },
  {
   "cell_type": "code",
   "execution_count": 36,
   "metadata": {},
   "outputs": [
    {
     "name": "stdout",
     "output_type": "stream",
     "text": [
      "grid_kfold_shuffle: best esimator: /n Pipeline(steps=[('preprocessing', StandardScaler()),\n",
      "                ('classifier', LogisticRegression(C=100, max_iter=10000))])\n",
      "grid_kfold_shuffle: best cross-validation score:  0.7085817353332067\n",
      "grid_kfold_shuffle: test set average accuracy:  0.7303664921465969 \n",
      "\n"
     ]
    }
   ],
   "source": [
    "kfold_shuffle=KFold(n_splits=5, shuffle=True, random_state=0)\n",
    "grid_kfold_shuffle = GridSearchCV(pipe, param_grid, cv=kfold_shuffle)\n",
    "grid_kfold_shuffle.fit(X_train, y_train)\n",
    "print ('grid_kfold_shuffle: best esimator: /n', grid_kfold_shuffle.best_estimator_)\n",
    "print ('grid_kfold_shuffle: best cross-validation score: ', grid_kfold_shuffle.best_score_)\n",
    "print ('grid_kfold_shuffle: test set average accuracy: ',\n",
    "        accuracy_score(y_test, grid_kfold_shuffle.predict(X_test)), '\\n')"
   ]
  },
  {
   "cell_type": "markdown",
   "metadata": {},
   "source": [
    "### 2) Grid Search for best performing preprocessing and parameters fo average precision score"
   ]
  },
  {
   "cell_type": "code",
   "execution_count": 37,
   "metadata": {},
   "outputs": [
    {
     "name": "stdout",
     "output_type": "stream",
     "text": [
      "grid_kfold_shuffle: best esimator: /n Pipeline(steps=[('preprocessing', None),\n",
      "                ('classifier', LogisticRegression(C=10, max_iter=10000))])\n",
      "grid_kfold_shuffle: best cross-validation score:  0.7251487572113545\n",
      "grid_kfold_shuffle test set average precision:  0.7266156053219259 \n",
      "\n"
     ]
    }
   ],
   "source": [
    "kfold_shuffle=KFold(n_splits=5, shuffle=True, random_state=0)\n",
    "grid_kfold_shuffle = GridSearchCV(pipe, param_grid, cv=kfold_shuffle, scoring='average_precision')\n",
    "grid_kfold_shuffle.fit(X_train, y_train)\n",
    "print ('grid_kfold_shuffle: best esimator: /n', grid_kfold_shuffle.best_estimator_)\n",
    "print ('grid_kfold_shuffle: best cross-validation score: ', grid_kfold_shuffle.best_score_)\n",
    "print ('grid_kfold_shuffle test set average precision: ', \n",
    "       average_precision_score(y_test, grid_kfold_shuffle.decision_function(X_test)), '\\n')"
   ]
  },
  {
   "cell_type": "markdown",
   "metadata": {},
   "source": [
    "### 3) Grid Search for best performing preprocessing and parameters for ROC AUC"
   ]
  },
  {
   "cell_type": "code",
   "execution_count": 38,
   "metadata": {},
   "outputs": [
    {
     "name": "stdout",
     "output_type": "stream",
     "text": [
      "grid_kfold_shuffle: best estimator: \n",
      " Pipeline(steps=[('preprocessing', None),\n",
      "                ('classifier', LogisticRegression(C=100, max_iter=10000))])\n",
      "grid_kfold_shuffle: best cross-validation score:  0.7541549404404295\n",
      "grid_kfold_shuffle test set AUC:  0.7878700420549186 \n",
      "\n"
     ]
    }
   ],
   "source": [
    "#Grid search with with shuffled kfold cross validation\n",
    "#use decision function to calculate AUC\n",
    "kfold_shuffle = KFold(n_splits=5, shuffle=True, random_state=0)\n",
    "grid_kfold_shuffle = GridSearchCV(pipe, param_grid, cv=kfold_shuffle, scoring='roc_auc')\n",
    "grid_kfold_shuffle.fit(X_train, y_train)\n",
    "print ('grid_kfold_shuffle: best estimator: \\n', grid_kfold_shuffle.best_estimator_)\n",
    "print ('grid_kfold_shuffle: best cross-validation score: ', grid_kfold_shuffle.best_score_)                  \n",
    "print ('grid_kfold_shuffle test set AUC: ', \n",
    "       roc_auc_score(y_test, grid_kfold_shuffle.decision_function(X_test)), '\\n')"
   ]
  },
  {
   "cell_type": "markdown",
   "metadata": {},
   "source": [
    "### 4) Generate precision-recall cruve with best parameters for average precision"
   ]
  },
  {
   "cell_type": "code",
   "execution_count": 39,
   "metadata": {},
   "outputs": [
    {
     "data": {
      "image/png": "[encoded data removed]",
      "text/plain": [
       "<Figure size 432x288 with 1 Axes>"
      ]
     },
     "metadata": {
      "needs_background": "light"
     },
     "output_type": "display_data"
    }
   ],
   "source": [
    "pipe = Pipeline([('preprocessing', None), \n",
    "                 ('classifier', LogisticRegression(C=10, max_iter=10000))])\n",
    "X_train, X_test, y_train, y_test = train_test_split(data_array, df_lip_assays['Hot_Activity'], random_state=0)\n",
    "pipe.fit(X_train, y_train)\n",
    "predict = (pipe.decision_function(X_test))\n",
    "\n",
    "precision, recall, thresholds = precision_recall_curve(y_test, predict)\n",
    "\n",
    "plt.plot(precision, recall, label='LogReg')\n",
    "close_zero = np.argmin(np.abs(thresholds))\n",
    "plt.plot(precision[close_zero], recall[close_zero], '^', c='k', \n",
    "          markersize=10, label='threshold zero ', fillstyle='none', mew=2)\n",
    "plt.xlabel('Precision')\n",
    "plt.ylabel('Recall')\n",
    "plt.legend(loc='best')\n",
    "plt.title('Precision-recall curve for logistic regression (None, C=10)')\n",
    "plt.savefig('Precision_recall_LR_binary.png', bbox_inches='tight')"
   ]
  },
  {
   "cell_type": "markdown",
   "metadata": {},
   "source": [
    "### 5) Generate ROC curve with best parameters for ROC AUC"
   ]
  },
  {
   "cell_type": "code",
   "execution_count": 40,
   "metadata": {},
   "outputs": [
    {
     "data": {
      "text/plain": [
       "Text(0.5, 1.0, 'ROC curve for logistic regression (None, C=100)')"
      ]
     },
     "execution_count": 40,
     "metadata": {},
     "output_type": "execute_result"
    },
    {
     "data": {
      "image/png": "[encoded data removed]",
      "text/plain": [
       "<Figure size 432x288 with 1 Axes>"
      ]
     },
     "metadata": {
      "needs_background": "light"
     },
     "output_type": "display_data"
    }
   ],
   "source": [
    "#use best preprocessing (None) and parameters (c=1) for av. precision\n",
    "\n",
    "pipe = Pipeline([('preprocessing', None), \n",
    "                 ('classifier', LogisticRegression(C=100, max_iter=10000))])\n",
    "X_train, X_test, y_train, y_test = train_test_split(data_array, df_lip_assays['Hot_Activity'], random_state=0)\n",
    "pipe.fit(X_train, y_train)\n",
    "predict = (pipe.decision_function(X_test))\n",
    "\n",
    "fpr, tpr, thresholds = roc_curve(y_test, pipe.decision_function(X_test))\n",
    "\n",
    "plt.plot(fpr, tpr, label='LogReg')\n",
    "close_zero = np.argmin(np.abs(thresholds))\n",
    "plt.plot(fpr[close_zero], tpr[close_zero], '^', c='k',\n",
    "         markersize=10, label=' threshold zero', fillstyle='none', mew=2)\n",
    "plt.xlabel('FPR')\n",
    "plt.ylabel('TPR')\n",
    "plt.legend(loc='best')\n",
    "plt.title('ROC curve for logistic regression (None, C=100)')"
   ]
  },
  {
   "cell_type": "markdown",
   "metadata": {},
   "source": [
    "### 7) Generate Confusion matrix with best parameters for average accuracy\n",
    "\n",
    "**Precision/sens/spec/fpr:**   \n",
    "\n",
    "precision = PPV = TP/TP+FP   \n",
    "sensitivity = recall = TPR = TP/TP+FN   \n",
    "specificity = TNR = TN/TN+FP   \n",
    "FPR = FP/FP+TN = (1-specificity)   "
   ]
  },
  {
   "cell_type": "code",
   "execution_count": 79,
   "metadata": {},
   "outputs": [],
   "source": [
    "#confusion matrix (StandardSclaer, C=100)\n",
    "\n",
    "#build and fit pipieline\n",
    "pipe = Pipeline([('preprocessing', StandardScaler()), \n",
    "                 ('classifier', LogisticRegression(C=100, max_iter=10000))])\n",
    "X_train, X_test, y_train, y_test = train_test_split(data_array, df_lip_assays['Hot_Activity'], random_state=0)\n"
   ]
  },
  {
   "cell_type": "code",
   "execution_count": null,
   "metadata": {},
   "outputs": [],
   "source": []
  },
  {
   "cell_type": "code",
   "execution_count": 80,
   "metadata": {},
   "outputs": [
    {
     "name": "stdout",
     "output_type": "stream",
     "text": [
      "Precision:  0.7349397590361446\n",
      "Sensitivity:  0.6740331491712708\n",
      "Specificity:  0.7810945273631841\n",
      "FPR : 0.21890547263681592\n",
      "very major error : 21.890547263681594\n",
      "major error:  32.59668508287293\n",
      "\n",
      " confusion matrix: \n",
      " [[157  44]\n",
      " [ 59 122]]\n"
     ]
    }
   ],
   "source": [
    "pipe.fit(X_train, y_train)\n",
    "predict = pipe.predict(X_test).astype(int)\n",
    "\n",
    "#generate confusion matrix\n",
    "confusion = confusion_matrix(y_test, predict)\n",
    "\n",
    "#calculate precision, sensitivity, specifcity, FPR, erros\n",
    "Precision = (confusion[1][1])/(confusion[1][1]+confusion[0][1])\n",
    "Sensitivity = (confusion[1][1])/(confusion[1][1]+confusion[1][0])\n",
    "Specificity = (confusion[0][0])/(confusion[0][0]+confusion[0][1])\n",
    "FPR = 1-Specificity\n",
    "very_major_error = (confusion[0][1]/y_test[y_test==0].count())*100\n",
    "major_error = (confusion[1][0]/y_test[y_test==1].count())*100\n",
    "\n",
    "\n",
    "print ('Precision: ', Precision)\n",
    "print ('Sensitivity: ', Sensitivity)\n",
    "print ('Specificity: ', Specificity)\n",
    "print ('FPR :', FPR)\n",
    "print ('very major error :', very_major_error)\n",
    "print ('major error: ', major_error)\n",
    "print ('\\n confusion matrix: \\n', confusion)\n"
   ]
  },
  {
   "cell_type": "code",
   "execution_count": null,
   "metadata": {},
   "outputs": [],
   "source": []
  },
  {
   "cell_type": "code",
   "execution_count": null,
   "metadata": {},
   "outputs": [],
   "source": []
  },
  {
   "cell_type": "code",
   "execution_count": 81,
   "metadata": {},
   "outputs": [
    {
     "data": {
      "image/png": "[encoded data removed]",
      "text/plain": [
       "<Figure size 468x360 with 2 Axes>"
      ]
     },
     "metadata": {},
     "output_type": "display_data"
    }
   ],
   "source": [
    "sns.set_style({'font.family':'sans-serif', 'font.sans-serif':'Helvetica'})\n",
    "\n",
    "group_names = ['True Neg','False Pos','False Neg','True Pos']\n",
    "group_counts = [\"{0:0.0f}\".format(value) for value in\n",
    "                confusion.flatten()]\n",
    "group_percentages = [\"{0:.2%}\".format(value) for value in\n",
    "                     confusion.flatten()/np.sum(confusion)]\n",
    "labels = [f\"{v1}\\n{v2}\\n{v3}\" for v1, v2, v3 in\n",
    "          zip(group_names,group_counts,group_percentages)]\n",
    "labels = np.asarray(labels).reshape(2,2)\n",
    "plt.figure(figsize = (6.5,5))\n",
    "sns.heatmap(confusion, annot=labels, fmt='', cmap='Blues')\n",
    "plt.savefig('LR_binary_cf.png', bbox_inches='tight')"
   ]
  },
  {
   "cell_type": "code",
   "execution_count": null,
   "metadata": {},
   "outputs": [],
   "source": []
  },
  {
   "cell_type": "markdown",
   "metadata": {},
   "source": [
    "## Single Decision Tree"
   ]
  },
  {
   "cell_type": "markdown",
   "metadata": {},
   "source": [
    "### 1) Grid search for best performing preprocessing and parameters for ACCURACY"
   ]
  },
  {
   "cell_type": "code",
   "execution_count": 44,
   "metadata": {},
   "outputs": [],
   "source": [
    "tree = DecisionTreeClassifier(random_state=0)\n",
    "param_grid = {'max_depth':[2,4,6,8,10,12,14, None], \n",
    "              'min_samples_split':[0.1,0.2,0.3,0.4,0.5,0.6,0.7,0.8,0.9,1.0],\n",
    "              'min_samples_leaf':[0.1,0.2,0.3,0.4,0.5],\n",
    "              'max_features':['auto','sqrt','log2', None]}\n",
    "X_train, X_test, y_train, y_test = train_test_split(data_array, df_lip_assays['Hot_Activity'],\n",
    "                                                    random_state=0)"
   ]
  },
  {
   "cell_type": "code",
   "execution_count": 45,
   "metadata": {},
   "outputs": [
    {
     "name": "stdout",
     "output_type": "stream",
     "text": [
      "grid_kfold_shuffle: best estimator: \n",
      " DecisionTreeClassifier(max_depth=4, min_samples_leaf=0.1, min_samples_split=0.1,\n",
      "                       random_state=0)\n",
      "grid_kfold_shuffle: best cross-validation score:  0.6693070058857035\n",
      "grid_kfold_shuffle: test set average accuracy:  0.6649214659685864 \n",
      "\n"
     ]
    }
   ],
   "source": [
    "#Grid search with shuffled kfold validation\n",
    "Kfold_shuffle=KFold(n_splits=5, shuffle=True, random_state=0)\n",
    "grid_kfold_shuffle = GridSearchCV(tree, param_grid, cv=Kfold_shuffle)\n",
    "grid_kfold_shuffle.fit(X_train, y_train)\n",
    "print ('grid_kfold_shuffle: best estimator: \\n', grid_kfold_shuffle.best_estimator_)\n",
    "print ('grid_kfold_shuffle: best cross-validation score: ', grid_kfold_shuffle.best_score_)\n",
    "print ('grid_kfold_shuffle: test set average accuracy: ', \n",
    "       accuracy_score(y_test, grid_kfold_shuffle.predict(X_test)), '\\n')"
   ]
  },
  {
   "cell_type": "markdown",
   "metadata": {},
   "source": [
    "### 2) Generate Feature importance plot and visualise decision tree"
   ]
  },
  {
   "cell_type": "code",
   "execution_count": 57,
   "metadata": {},
   "outputs": [
    {
     "data": {
      "image/png": "[encoded data removed]",
      "text/plain": [
       "<Figure size 432x288 with 1 Axes>"
      ]
     },
     "metadata": {
      "needs_background": "light"
     },
     "output_type": "display_data"
    }
   ],
   "source": [
    "#define trees with best perfoming parameters\n",
    "tree = DecisionTreeClassifier(max_depth=4, min_samples_leaf=0.1,\n",
    "                       min_samples_split=0.1, random_state=0)\n",
    "tree.fit(X_train, y_train)    \n",
    "\n",
    "#plot charts\n",
    "def plot_feature_importances(model):\n",
    "    n_features = data_array.shape[1]\n",
    "    plt.barh(np.arange(n_features), model.feature_importances_, align='center')\n",
    "    plt.yticks(np.arange(n_features), df_lip_compounds.columns[1:-1])\n",
    "    plt.xlabel('feature importance')\n",
    "    plt.ylabel('feature')\n",
    "    plt.ylim(-1, n_features)\n",
    "    plt.title('Feature importance plot')\n",
    "\n",
    "plot_feature_importances(tree)\n"
   ]
  },
  {
   "cell_type": "code",
   "execution_count": 58,
   "metadata": {},
   "outputs": [
    {
     "data": {
      "image/svg+xml": "<?xml version=\"1.0\" encoding=\"UTF-8\" standalone=\"no\"?>\n<!DOCTYPE svg PUBLIC \"-//W3C//DTD SVG 1.1//EN\"\n \"http://www.w3.org/Graphics/SVG/1.1/DTD/svg11.dtd\">\n<!-- Generated by graphviz version 2.50.0 (20211204.2007)\n -->\n<!-- Title: Tree Pages: 1 -->\n<svg width=\"661pt\" height=\"477pt\"\n viewBox=\"0.00 0.00 661.00 477.00\" xmlns=\"http://www.w3.org/2000/svg\" xmlns:xlink=\"http://www.w3.org/1999/xlink\">\n<g id=\"graph0\" class=\"graph\" transform=\"scale(1 1) rotate(0) translate(4 473)\">\n<title>Tree</title>\n<polygon fill=\"white\" stroke=\"transparent\" points=\"-4,4 -4,-473 657,-473 657,4 -4,4\"/>\n<!-- 0 -->\n<g id=\"node1\" class=\"node\">\n<title>0</title>\n<polygon fill=\"#fffdfc\" stroke=\"black\" points=\"432,-469 237,-469 237,-401 432,-401 432,-469\"/>\n<text text-anchor=\"middle\" x=\"334.5\" y=\"-453.8\" font-family=\"Helvetica,sans-Serif\" font-size=\"14.00\">Heavy_atom_mw &lt;= 333.602</text>\n<text text-anchor=\"middle\" x=\"334.5\" y=\"-438.8\" font-family=\"Helvetica,sans-Serif\" font-size=\"14.00\">samples = 1146</text>\n<text text-anchor=\"middle\" x=\"334.5\" y=\"-423.8\" font-family=\"Helvetica,sans-Serif\" font-size=\"14.00\">value = [578, 568]</text>\n<text text-anchor=\"middle\" x=\"334.5\" y=\"-408.8\" font-family=\"Helvetica,sans-Serif\" font-size=\"14.00\">class = Active</text>\n</g>\n<!-- 1 -->\n<g id=\"node2\" class=\"node\">\n<title>1</title>\n<polygon fill=\"#9ccef2\" stroke=\"black\" points=\"312,-365 187,-365 187,-297 312,-297 312,-365\"/>\n<text text-anchor=\"middle\" x=\"249.5\" y=\"-349.8\" font-family=\"Helvetica,sans-Serif\" font-size=\"14.00\">LogP &lt;= 3.455</text>\n<text text-anchor=\"middle\" x=\"249.5\" y=\"-334.8\" font-family=\"Helvetica,sans-Serif\" font-size=\"14.00\">samples = 471</text>\n<text text-anchor=\"middle\" x=\"249.5\" y=\"-319.8\" font-family=\"Helvetica,sans-Serif\" font-size=\"14.00\">value = [157, 314]</text>\n<text text-anchor=\"middle\" x=\"249.5\" y=\"-304.8\" font-family=\"Helvetica,sans-Serif\" font-size=\"14.00\">class = Deactive</text>\n</g>\n<!-- 0&#45;&gt;1 -->\n<g id=\"edge1\" class=\"edge\">\n<title>0&#45;&gt;1</title>\n<path fill=\"none\" stroke=\"black\" d=\"M306.9,-400.88C299.55,-392.07 291.53,-382.43 283.86,-373.24\"/>\n<polygon fill=\"black\" stroke=\"black\" points=\"286.34,-370.74 277.25,-365.3 280.96,-375.22 286.34,-370.74\"/>\n<text text-anchor=\"middle\" x=\"274.99\" y=\"-386.5\" font-family=\"Helvetica,sans-Serif\" font-size=\"14.00\">True</text>\n</g>\n<!-- 6 -->\n<g id=\"node7\" class=\"node\">\n<title>6</title>\n<polygon fill=\"#f5cdb0\" stroke=\"black\" points=\"501,-365 340,-365 340,-297 501,-297 501,-365\"/>\n<text text-anchor=\"middle\" x=\"420.5\" y=\"-349.8\" font-family=\"Helvetica,sans-Serif\" font-size=\"14.00\">Rotatable_bonds &lt;= 5.5</text>\n<text text-anchor=\"middle\" x=\"420.5\" y=\"-334.8\" font-family=\"Helvetica,sans-Serif\" font-size=\"14.00\">samples = 675</text>\n<text text-anchor=\"middle\" x=\"420.5\" y=\"-319.8\" font-family=\"Helvetica,sans-Serif\" font-size=\"14.00\">value = [421, 254]</text>\n<text text-anchor=\"middle\" x=\"420.5\" y=\"-304.8\" font-family=\"Helvetica,sans-Serif\" font-size=\"14.00\">class = Active</text>\n</g>\n<!-- 0&#45;&gt;6 -->\n<g id=\"edge6\" class=\"edge\">\n<title>0&#45;&gt;6</title>\n<path fill=\"none\" stroke=\"black\" d=\"M362.42,-400.88C369.93,-391.98 378.14,-382.24 385.97,-372.96\"/>\n<polygon fill=\"black\" stroke=\"black\" points=\"388.65,-375.2 392.42,-365.3 383.3,-370.69 388.65,-375.2\"/>\n<text text-anchor=\"middle\" x=\"394.54\" y=\"-386.51\" font-family=\"Helvetica,sans-Serif\" font-size=\"14.00\">False</text>\n</g>\n<!-- 2 -->\n<g id=\"node3\" class=\"node\">\n<title>2</title>\n<polygon fill=\"#7ebfee\" stroke=\"black\" points=\"176.5,-261 26.5,-261 26.5,-193 176.5,-193 176.5,-261\"/>\n<text text-anchor=\"middle\" x=\"101.5\" y=\"-245.8\" font-family=\"Helvetica,sans-Serif\" font-size=\"14.00\">Heavy_atoms &lt;= 22.5</text>\n<text text-anchor=\"middle\" x=\"101.5\" y=\"-230.8\" font-family=\"Helvetica,sans-Serif\" font-size=\"14.00\">samples = 338</text>\n<text text-anchor=\"middle\" x=\"101.5\" y=\"-215.8\" font-family=\"Helvetica,sans-Serif\" font-size=\"14.00\">value = [87, 251]</text>\n<text text-anchor=\"middle\" x=\"101.5\" y=\"-200.8\" font-family=\"Helvetica,sans-Serif\" font-size=\"14.00\">class = Deactive</text>\n</g>\n<!-- 1&#45;&gt;2 -->\n<g id=\"edge2\" class=\"edge\">\n<title>1&#45;&gt;2</title>\n<path fill=\"none\" stroke=\"black\" d=\"M201.45,-296.88C187.55,-287.3 172.25,-276.76 157.89,-266.86\"/>\n<polygon fill=\"black\" stroke=\"black\" points=\"159.78,-263.92 149.56,-261.12 155.81,-269.68 159.78,-263.92\"/>\n</g>\n<!-- 5 -->\n<g id=\"node6\" class=\"node\">\n<title>5</title>\n<polygon fill=\"#fcf2eb\" stroke=\"black\" points=\"304.5,-253.5 194.5,-253.5 194.5,-200.5 304.5,-200.5 304.5,-253.5\"/>\n<text text-anchor=\"middle\" x=\"249.5\" y=\"-238.3\" font-family=\"Helvetica,sans-Serif\" font-size=\"14.00\">samples = 133</text>\n<text text-anchor=\"middle\" x=\"249.5\" y=\"-223.3\" font-family=\"Helvetica,sans-Serif\" font-size=\"14.00\">value = [70, 63]</text>\n<text text-anchor=\"middle\" x=\"249.5\" y=\"-208.3\" font-family=\"Helvetica,sans-Serif\" font-size=\"14.00\">class = Active</text>\n</g>\n<!-- 1&#45;&gt;5 -->\n<g id=\"edge5\" class=\"edge\">\n<title>1&#45;&gt;5</title>\n<path fill=\"none\" stroke=\"black\" d=\"M249.5,-296.88C249.5,-286.33 249.5,-274.6 249.5,-263.85\"/>\n<polygon fill=\"black\" stroke=\"black\" points=\"253,-263.52 249.5,-253.52 246,-263.52 253,-263.52\"/>\n</g>\n<!-- 3 -->\n<g id=\"node4\" class=\"node\">\n<title>3</title>\n<polygon fill=\"#8cc6f0\" stroke=\"black\" points=\"117,-149.5 0,-149.5 0,-96.5 117,-96.5 117,-149.5\"/>\n<text text-anchor=\"middle\" x=\"58.5\" y=\"-134.3\" font-family=\"Helvetica,sans-Serif\" font-size=\"14.00\">samples = 220</text>\n<text text-anchor=\"middle\" x=\"58.5\" y=\"-119.3\" font-family=\"Helvetica,sans-Serif\" font-size=\"14.00\">value = [65, 155]</text>\n<text text-anchor=\"middle\" x=\"58.5\" y=\"-104.3\" font-family=\"Helvetica,sans-Serif\" font-size=\"14.00\">class = Deactive</text>\n</g>\n<!-- 2&#45;&gt;3 -->\n<g id=\"edge3\" class=\"edge\">\n<title>2&#45;&gt;3</title>\n<path fill=\"none\" stroke=\"black\" d=\"M87.54,-192.88C82.95,-182 77.83,-169.86 73.19,-158.85\"/>\n<polygon fill=\"black\" stroke=\"black\" points=\"76.37,-157.37 69.26,-149.52 69.92,-160.09 76.37,-157.37\"/>\n</g>\n<!-- 4 -->\n<g id=\"node5\" class=\"node\">\n<title>4</title>\n<polygon fill=\"#66b3eb\" stroke=\"black\" points=\"251.5,-149.5 135.5,-149.5 135.5,-96.5 251.5,-96.5 251.5,-149.5\"/>\n<text text-anchor=\"middle\" x=\"193.5\" y=\"-134.3\" font-family=\"Helvetica,sans-Serif\" font-size=\"14.00\">samples = 118</text>\n<text text-anchor=\"middle\" x=\"193.5\" y=\"-119.3\" font-family=\"Helvetica,sans-Serif\" font-size=\"14.00\">value = [22, 96]</text>\n<text text-anchor=\"middle\" x=\"193.5\" y=\"-104.3\" font-family=\"Helvetica,sans-Serif\" font-size=\"14.00\">class = Deactive</text>\n</g>\n<!-- 2&#45;&gt;4 -->\n<g id=\"edge4\" class=\"edge\">\n<title>2&#45;&gt;4</title>\n<path fill=\"none\" stroke=\"black\" d=\"M131.37,-192.88C141.69,-181.45 153.24,-168.63 163.56,-157.19\"/>\n<polygon fill=\"black\" stroke=\"black\" points=\"166.38,-159.29 170.48,-149.52 161.19,-154.6 166.38,-159.29\"/>\n</g>\n<!-- 7 -->\n<g id=\"node8\" class=\"node\">\n<title>7</title>\n<polygon fill=\"#efb083\" stroke=\"black\" points=\"518,-261 323,-261 323,-193 518,-193 518,-261\"/>\n<text text-anchor=\"middle\" x=\"420.5\" y=\"-245.8\" font-family=\"Helvetica,sans-Serif\" font-size=\"14.00\">Heavy_atom_mw &lt;= 367.685</text>\n<text text-anchor=\"middle\" x=\"420.5\" y=\"-230.8\" font-family=\"Helvetica,sans-Serif\" font-size=\"14.00\">samples = 450</text>\n<text text-anchor=\"middle\" x=\"420.5\" y=\"-215.8\" font-family=\"Helvetica,sans-Serif\" font-size=\"14.00\">value = [327, 123]</text>\n<text text-anchor=\"middle\" x=\"420.5\" y=\"-200.8\" font-family=\"Helvetica,sans-Serif\" font-size=\"14.00\">class = Active</text>\n</g>\n<!-- 6&#45;&gt;7 -->\n<g id=\"edge7\" class=\"edge\">\n<title>6&#45;&gt;7</title>\n<path fill=\"none\" stroke=\"black\" d=\"M420.5,-296.88C420.5,-288.78 420.5,-279.98 420.5,-271.47\"/>\n<polygon fill=\"black\" stroke=\"black\" points=\"424,-271.3 420.5,-261.3 417,-271.3 424,-271.3\"/>\n</g>\n<!-- 12 -->\n<g id=\"node13\" class=\"node\">\n<title>12</title>\n<polygon fill=\"#c7e3f8\" stroke=\"black\" points=\"653,-253.5 536,-253.5 536,-200.5 653,-200.5 653,-253.5\"/>\n<text text-anchor=\"middle\" x=\"594.5\" y=\"-238.3\" font-family=\"Helvetica,sans-Serif\" font-size=\"14.00\">samples = 225</text>\n<text text-anchor=\"middle\" x=\"594.5\" y=\"-223.3\" font-family=\"Helvetica,sans-Serif\" font-size=\"14.00\">value = [94, 131]</text>\n<text text-anchor=\"middle\" x=\"594.5\" y=\"-208.3\" font-family=\"Helvetica,sans-Serif\" font-size=\"14.00\">class = Deactive</text>\n</g>\n<!-- 6&#45;&gt;12 -->\n<g id=\"edge12\" class=\"edge\">\n<title>6&#45;&gt;12</title>\n<path fill=\"none\" stroke=\"black\" d=\"M476.99,-296.88C497.91,-284.62 521.52,-270.78 542.07,-258.74\"/>\n<polygon fill=\"black\" stroke=\"black\" points=\"544.11,-261.6 550.97,-253.52 540.57,-255.56 544.11,-261.6\"/>\n</g>\n<!-- 8 -->\n<g id=\"node9\" class=\"node\">\n<title>8</title>\n<polygon fill=\"#f9e1cf\" stroke=\"black\" points=\"433,-149.5 316,-149.5 316,-96.5 433,-96.5 433,-149.5\"/>\n<text text-anchor=\"middle\" x=\"374.5\" y=\"-134.3\" font-family=\"Helvetica,sans-Serif\" font-size=\"14.00\">samples = 190</text>\n<text text-anchor=\"middle\" x=\"374.5\" y=\"-119.3\" font-family=\"Helvetica,sans-Serif\" font-size=\"14.00\">value = [108, 82]</text>\n<text text-anchor=\"middle\" x=\"374.5\" y=\"-104.3\" font-family=\"Helvetica,sans-Serif\" font-size=\"14.00\">class = Active</text>\n</g>\n<!-- 7&#45;&gt;8 -->\n<g id=\"edge8\" class=\"edge\">\n<title>7&#45;&gt;8</title>\n<path fill=\"none\" stroke=\"black\" d=\"M405.57,-192.88C400.65,-182 395.18,-169.86 390.22,-158.85\"/>\n<polygon fill=\"black\" stroke=\"black\" points=\"393.31,-157.2 386.01,-149.52 386.93,-160.07 393.31,-157.2\"/>\n</g>\n<!-- 9 -->\n<g id=\"node10\" class=\"node\">\n<title>9</title>\n<polygon fill=\"#ea995e\" stroke=\"black\" points=\"568,-157 451,-157 451,-89 568,-89 568,-157\"/>\n<text text-anchor=\"middle\" x=\"509.5\" y=\"-141.8\" font-family=\"Helvetica,sans-Serif\" font-size=\"14.00\">MW &lt;= 432.082</text>\n<text text-anchor=\"middle\" x=\"509.5\" y=\"-126.8\" font-family=\"Helvetica,sans-Serif\" font-size=\"14.00\">samples = 260</text>\n<text text-anchor=\"middle\" x=\"509.5\" y=\"-111.8\" font-family=\"Helvetica,sans-Serif\" font-size=\"14.00\">value = [219, 41]</text>\n<text text-anchor=\"middle\" x=\"509.5\" y=\"-96.8\" font-family=\"Helvetica,sans-Serif\" font-size=\"14.00\">class = Active</text>\n</g>\n<!-- 7&#45;&gt;9 -->\n<g id=\"edge9\" class=\"edge\">\n<title>7&#45;&gt;9</title>\n<path fill=\"none\" stroke=\"black\" d=\"M449.4,-192.88C457.17,-183.98 465.67,-174.24 473.76,-164.96\"/>\n<polygon fill=\"black\" stroke=\"black\" points=\"476.51,-167.14 480.44,-157.3 471.23,-162.53 476.51,-167.14\"/>\n</g>\n<!-- 10 -->\n<g id=\"node11\" class=\"node\">\n<title>10</title>\n<polygon fill=\"#eda673\" stroke=\"black\" points=\"498.5,-53 388.5,-53 388.5,0 498.5,0 498.5,-53\"/>\n<text text-anchor=\"middle\" x=\"443.5\" y=\"-37.8\" font-family=\"Helvetica,sans-Serif\" font-size=\"14.00\">samples = 123</text>\n<text text-anchor=\"middle\" x=\"443.5\" y=\"-22.8\" font-family=\"Helvetica,sans-Serif\" font-size=\"14.00\">value = [95, 28]</text>\n<text text-anchor=\"middle\" x=\"443.5\" y=\"-7.8\" font-family=\"Helvetica,sans-Serif\" font-size=\"14.00\">class = Active</text>\n</g>\n<!-- 9&#45;&gt;10 -->\n<g id=\"edge10\" class=\"edge\">\n<title>9&#45;&gt;10</title>\n<path fill=\"none\" stroke=\"black\" d=\"M486.42,-88.95C480.22,-80.07 473.51,-70.46 467.27,-61.54\"/>\n<polygon fill=\"black\" stroke=\"black\" points=\"470.07,-59.43 461.47,-53.24 464.33,-63.44 470.07,-59.43\"/>\n</g>\n<!-- 11 -->\n<g id=\"node12\" class=\"node\">\n<title>11</title>\n<polygon fill=\"#e88e4e\" stroke=\"black\" points=\"634,-53 517,-53 517,0 634,0 634,-53\"/>\n<text text-anchor=\"middle\" x=\"575.5\" y=\"-37.8\" font-family=\"Helvetica,sans-Serif\" font-size=\"14.00\">samples = 137</text>\n<text text-anchor=\"middle\" x=\"575.5\" y=\"-22.8\" font-family=\"Helvetica,sans-Serif\" font-size=\"14.00\">value = [124, 13]</text>\n<text text-anchor=\"middle\" x=\"575.5\" y=\"-7.8\" font-family=\"Helvetica,sans-Serif\" font-size=\"14.00\">class = Active</text>\n</g>\n<!-- 9&#45;&gt;11 -->\n<g id=\"edge11\" class=\"edge\">\n<title>9&#45;&gt;11</title>\n<path fill=\"none\" stroke=\"black\" d=\"M532.58,-88.95C538.78,-80.07 545.49,-70.46 551.73,-61.54\"/>\n<polygon fill=\"black\" stroke=\"black\" points=\"554.67,-63.44 557.53,-53.24 548.93,-59.43 554.67,-63.44\"/>\n</g>\n</g>\n</svg>\n",
      "text/plain": [
       "<graphviz.sources.Source at 0x7fced8eaf700>"
      ]
     },
     "metadata": {},
     "output_type": "display_data"
    }
   ],
   "source": [
    "export_graphviz(tree, out_file=\"tree.dot\", class_names=['Active', 'Deactive'],\n",
    "    feature_names=df_lip_compounds.columns[1:-1], impurity=False, filled=True)\n",
    "\n",
    "with open('tree.dot') as f:\n",
    "    dot_graph = f.read()\n",
    "display(graphviz.Source(dot_graph))"
   ]
  },
  {
   "cell_type": "markdown",
   "metadata": {},
   "source": [
    "### 3) Grid search for best performing parameters for AVERAGE PRECISION SCORE"
   ]
  },
  {
   "cell_type": "code",
   "execution_count": 51,
   "metadata": {},
   "outputs": [
    {
     "name": "stdout",
     "output_type": "stream",
     "text": [
      "grid_kfold_shuffle: best estimator: \n",
      " DecisionTreeClassifier(max_depth=4, min_samples_leaf=0.1, min_samples_split=0.1,\n",
      "                       random_state=0)\n",
      "grid_kfold_shuffle: best cross-validation score:  0.6615699300996729\n",
      "grid_kfold_shuffle test set average precision:  0.6909149186005005 \n",
      "\n"
     ]
    }
   ],
   "source": [
    "#Grid search with shuffled kfold validation\n",
    "#use predict_proba function to calculate average_precision\n",
    "kfold_shuffle = KFold(n_splits=5, shuffle=True, random_state=0)\n",
    "grid_kfold_shuffle = GridSearchCV(tree, param_grid, cv=kfold_shuffle, scoring='average_precision')\n",
    "grid_kfold_shuffle.fit(X_train, y_train)\n",
    "print ('grid_kfold_shuffle: best estimator: \\n', grid_kfold_shuffle.best_estimator_)\n",
    "print ('grid_kfold_shuffle: best cross-validation score: ', grid_kfold_shuffle.best_score_)                  \n",
    "print ('grid_kfold_shuffle test set average precision: ', \n",
    "       average_precision_score(y_test, grid_kfold_shuffle.predict_proba(X_test)[:,1]), '\\n')"
   ]
  },
  {
   "cell_type": "markdown",
   "metadata": {},
   "source": [
    "### 4) Grid search for best performing preprocessing and parameters for ROC AUC"
   ]
  },
  {
   "cell_type": "code",
   "execution_count": 52,
   "metadata": {},
   "outputs": [
    {
     "name": "stdout",
     "output_type": "stream",
     "text": [
      "grid_kfold_shuffle: best estimator: \n",
      " DecisionTreeClassifier(max_depth=4, min_samples_leaf=0.1, min_samples_split=0.1,\n",
      "                       random_state=0)\n",
      "grid_kfold_shuffle: best cross-validation score:  0.7215177343336754\n",
      "grid_kfold_shuffle test set AUC:  0.744385805777741 \n",
      "\n"
     ]
    }
   ],
   "source": [
    "#Grid search with shuffled kfold validation\n",
    "#use predict_proba function to calculate average_precision\n",
    "\n",
    "kfold_shuffle = KFold(n_splits=5, shuffle=True, random_state=0)\n",
    "grid_kfold_shuffle = GridSearchCV(tree, param_grid, cv=kfold_shuffle, scoring='roc_auc')\n",
    "grid_kfold_shuffle.fit(X_train, y_train)\n",
    "print ('grid_kfold_shuffle: best estimator: \\n', grid_kfold_shuffle.best_estimator_)\n",
    "print ('grid_kfold_shuffle: best cross-validation score: ', grid_kfold_shuffle.best_score_)                  \n",
    "print ('grid_kfold_shuffle test set AUC: ', \n",
    "       roc_auc_score(y_test, grid_kfold_shuffle.predict_proba(X_test)[:,1]), '\\n')"
   ]
  },
  {
   "cell_type": "markdown",
   "metadata": {},
   "source": [
    "### 5) Generate precision-recall curve with best parameters for average precision"
   ]
  },
  {
   "cell_type": "code",
   "execution_count": 61,
   "metadata": {},
   "outputs": [
    {
     "data": {
      "text/plain": [
       "<matplotlib.legend.Legend at 0x7fcea8671ac0>"
      ]
     },
     "execution_count": 61,
     "metadata": {},
     "output_type": "execute_result"
    },
    {
     "data": {
      "image/png": "[encoded data removed]",
      "text/plain": [
       "<Figure size 432x288 with 1 Axes>"
      ]
     },
     "metadata": {
      "needs_background": "light"
     },
     "output_type": "display_data"
    }
   ],
   "source": [
    "X_train, X_test, y_train, y_test = train_test_split(data_array, df_lip_assays['Hot_Activity'], random_state=0)\n",
    "tree = DecisionTreeClassifier(max_depth=4, min_samples_leaf=0.1, min_samples_split=0.1,\n",
    "                       random_state=0)\n",
    "tree.fit(X_train, y_train)\n",
    "\n",
    "precision, recall, thresholds = precision_recall_curve(y_test, tree.predict_proba(X_test)[:, 1])\n",
    "\n",
    "plt.plot(precision, recall, label='tree')\n",
    "close_default = np.argmin(np.abs(thresholds - 0.5))\n",
    "plt.plot(precision[close_default], recall[close_default], '^', c='k', \n",
    "          markersize=10, label='threshold 0.5 ', fillstyle='none', mew=2)\n",
    "plt.xlabel('precision')\n",
    "plt.ylabel('recall')\n",
    "plt.title('Precision-recall curve for decision tree')\n",
    "plt.legend(loc='best')"
   ]
  },
  {
   "cell_type": "markdown",
   "metadata": {},
   "source": [
    "### 6) Generate ROC curve with best parameters for ROC AUC"
   ]
  },
  {
   "cell_type": "code",
   "execution_count": 62,
   "metadata": {},
   "outputs": [
    {
     "data": {
      "text/plain": [
       "<matplotlib.legend.Legend at 0x7fced94a7f40>"
      ]
     },
     "execution_count": 62,
     "metadata": {},
     "output_type": "execute_result"
    },
    {
     "data": {
      "image/png": "[encoded data removed]",
      "text/plain": [
       "<Figure size 432x288 with 1 Axes>"
      ]
     },
     "metadata": {
      "needs_background": "light"
     },
     "output_type": "display_data"
    }
   ],
   "source": [
    "fpr, tpr, thresholds = roc_curve(y_test, tree.predict_proba(X_test)[:, 1])\n",
    "\n",
    "plt.plot(fpr, tpr, label='ROC curve tree')\n",
    "plt.xlabel('FPR')\n",
    "plt.ylabel('TPR(recall)')\n",
    "\n",
    "close_default = np.argmin(np.abs(thresholds - 0.5))\n",
    "plt.plot(fpr[close_default], tpr[close_default], '^', markersize=10, label='threshold 0.5', \n",
    "         fillstyle='none', c='k', mew=2)\n",
    "plt.title('ROC curve for decision tree')\n",
    "plt.legend(loc=4)"
   ]
  },
  {
   "cell_type": "markdown",
   "metadata": {},
   "source": [
    "### 7) Generate confusion matrix with best parameters (average precision)"
   ]
  },
  {
   "cell_type": "code",
   "execution_count": 63,
   "metadata": {},
   "outputs": [
    {
     "name": "stdout",
     "output_type": "stream",
     "text": [
      "Precision:  0.653179190751445\n",
      "Sensitivity:  0.6243093922651933\n",
      "Specificity:  0.7014925373134329\n",
      "FPR : 0.29850746268656714\n",
      "very major error : 29.850746268656714\n",
      "major error:  37.569060773480665\n",
      "\n",
      " confusion matrix: \n",
      " [[141  60]\n",
      " [ 68 113]]\n"
     ]
    }
   ],
   "source": [
    "#confusion matrix (max_features=auto, max_depth=2, min_samples_lieaf=0.1, min_samples_split = 0)   \n",
    "\n",
    "#build and fit decision tree\n",
    "X_train, X_test, y_train, y_test = train_test_split(data_array, df_lip_assays['Hot_Activity'], random_state=0)\n",
    "tree = DecisionTreeClassifier(max_depth=4, min_samples_leaf=0.1, min_samples_split=0.1,\n",
    "                       random_state=0)\n",
    "tree.fit(X_train, y_train)\n",
    "predict = tree.predict(X_test).astype(int)\n",
    "\n",
    "#generate confusion matrix\n",
    "confusion = confusion_matrix(y_test, predict)\n",
    "\n",
    "#calculate precision, sensitivty, specificity, FPR, errors\n",
    "Precision = (confusion[1][1])/(confusion[1][1]+confusion[0][1])\n",
    "Sensitivity = (confusion[1][1])/(confusion[1][1]+confusion[1][0])\n",
    "Specificity = (confusion[0][0])/(confusion[0][0]+confusion[0][1])\n",
    "FPR = 1-Specificity\n",
    "very_major_error = (confusion[0][1]/y_test[y_test==0].count())*100\n",
    "major_error = (confusion[1][0]/y_test[y_test==1].count())*100\n",
    "\n",
    "\n",
    "print ('Precision: ', Precision)\n",
    "print ('Sensitivity: ', Sensitivity)\n",
    "print ('Specificity: ', Specificity)\n",
    "print ('FPR :', FPR)\n",
    "print ('very major error :', very_major_error)\n",
    "print ('major error: ', major_error)\n",
    "print ('\\n confusion matrix: \\n', confusion)"
   ]
  },
  {
   "cell_type": "code",
   "execution_count": 64,
   "metadata": {},
   "outputs": [
    {
     "data": {
      "image/png": "[encoded data removed]",
      "text/plain": [
       "<Figure size 468x360 with 2 Axes>"
      ]
     },
     "metadata": {
      "needs_background": "light"
     },
     "output_type": "display_data"
    }
   ],
   "source": [
    "sns.set_style({'font.family':'sans-serif', 'font.sans-serif':'Helvetica'})\n",
    "\n",
    "group_names = ['True Neg','False Pos','False Neg','True Pos']\n",
    "group_counts = [\"{0:0.0f}\".format(value) for value in\n",
    "                confusion.flatten()]\n",
    "group_percentages = [\"{0:.2%}\".format(value) for value in\n",
    "                     confusion.flatten()/np.sum(confusion)]\n",
    "labels = [f\"{v1}\\n{v2}\\n{v3}\" for v1, v2, v3 in\n",
    "          zip(group_names,group_counts,group_percentages)]\n",
    "labels = np.asarray(labels).reshape(2,2)\n",
    "plt.figure(figsize = (6.5,5))\n",
    "sns.heatmap(confusion, annot=labels, fmt='', cmap='Blues')\n",
    "plt.savefig('tree_binary_cf.png', bbox_inches='tight')"
   ]
  },
  {
   "cell_type": "markdown",
   "metadata": {},
   "source": [
    "## Random Forest Model"
   ]
  },
  {
   "cell_type": "code",
   "execution_count": 65,
   "metadata": {},
   "outputs": [],
   "source": [
    "forest = RandomForestClassifier(n_jobs=-1, random_state=0)\n",
    "\n",
    "\n",
    "\n",
    "param_grid = {'n_estimators':[10,20,30,40,50,60,100],\n",
    "              'max_depth':[2,4,6,8,10,12,14,16]}\n",
    "X_train, X_test, y_train, y_test = train_test_split(data_array, df_lip_assays['Hot_Activity'],\n",
    "                                                    random_state=0)"
   ]
  },
  {
   "cell_type": "markdown",
   "metadata": {},
   "source": [
    "### 1) Grid search for best performing preprocessing and parameters for ACCURACY"
   ]
  },
  {
   "cell_type": "code",
   "execution_count": 66,
   "metadata": {},
   "outputs": [
    {
     "name": "stdout",
     "output_type": "stream",
     "text": [
      "grid_kfold_shuffle: best estimator: \n",
      " RandomForestClassifier(max_depth=8, n_jobs=-1, random_state=0)\n",
      "grid_kfold_shuffle: best cross-validation score:  0.7295158534269983\n",
      "grid_kfold_shuffle: test set average accuracy:  0.7486910994764397 \n",
      "\n"
     ]
    }
   ],
   "source": [
    "#grid search with shuffled kfold validation\n",
    "KFold_shuffle=KFold(n_splits=5, shuffle=True, random_state=0)\n",
    "grid_kfold_shuffle = GridSearchCV(forest, param_grid, cv=KFold_shuffle)\n",
    "grid_kfold_shuffle.fit(X_train, y_train)\n",
    "print ('grid_kfold_shuffle: best estimator: \\n', grid_kfold_shuffle.best_estimator_)\n",
    "print ('grid_kfold_shuffle: best cross-validation score: ', grid_kfold_shuffle.best_score_)\n",
    "print ('grid_kfold_shuffle: test set average accuracy: ', \n",
    "       accuracy_score(y_test, grid_kfold_shuffle.predict(X_test)), '\\n')"
   ]
  },
  {
   "cell_type": "markdown",
   "metadata": {},
   "source": [
    "### 2) Grid search for best performing parameters for AVERAGE PRECISION SCORE"
   ]
  },
  {
   "cell_type": "code",
   "execution_count": 67,
   "metadata": {},
   "outputs": [
    {
     "name": "stdout",
     "output_type": "stream",
     "text": [
      "grid_kfold_shuffle: best estimator: \n",
      " RandomForestClassifier(max_depth=8, n_jobs=-1, random_state=0)\n",
      "grid_kfold_shuffle: best cross-validation score:  0.7790923060747478\n",
      "grid_kfold_shuffle test set average precision:  0.7849191331781898 \n",
      "\n"
     ]
    }
   ],
   "source": [
    "#grid search with shuffled kfold validation\n",
    "#use predict_proba function to calculate average_precision\n",
    "kfold_shuffle = KFold(n_splits=5, shuffle=True, random_state=0)\n",
    "grid_kfold_shuffle = GridSearchCV(forest, param_grid, cv=kfold_shuffle, scoring='average_precision')\n",
    "grid_kfold_shuffle.fit(X_train, y_train)\n",
    "print ('grid_kfold_shuffle: best estimator: \\n', grid_kfold_shuffle.best_estimator_)\n",
    "print ('grid_kfold_shuffle: best cross-validation score: ', grid_kfold_shuffle.best_score_)                  \n",
    "print ('grid_kfold_shuffle test set average precision: ', \n",
    "       average_precision_score(y_test, grid_kfold_shuffle.predict_proba(X_test)[:,1]), '\\n')"
   ]
  },
  {
   "cell_type": "markdown",
   "metadata": {},
   "source": [
    "### 3) Grid search for best performing preprocessing and parameters for ROC AUC"
   ]
  },
  {
   "cell_type": "code",
   "execution_count": 68,
   "metadata": {},
   "outputs": [
    {
     "name": "stdout",
     "output_type": "stream",
     "text": [
      "grid_kfold_shuffle: best estimator: \n",
      " RandomForestClassifier(max_depth=8, n_jobs=-1, random_state=0)\n",
      "grid_kfold_shuffle: best cross-validation score:  0.7844481091827296\n",
      "grid_kfold_shuffle test set AUC:  0.8099420026937136 \n",
      "\n"
     ]
    }
   ],
   "source": [
    "#grid search with shuffled kfold validation\n",
    "#use predict_prob a function ot calculate ROC AUC\n",
    "\n",
    "kfold_shuffle = KFold(n_splits=5, shuffle=True, random_state=0)\n",
    "grid_kfold_shuffle = GridSearchCV(forest, param_grid, cv=kfold_shuffle, scoring='roc_auc')\n",
    "grid_kfold_shuffle.fit(X_train, y_train)\n",
    "print ('grid_kfold_shuffle: best estimator: \\n', grid_kfold_shuffle.best_estimator_)\n",
    "print ('grid_kfold_shuffle: best cross-validation score: ', grid_kfold_shuffle.best_score_)                  \n",
    "print ('grid_kfold_shuffle test set AUC: ', \n",
    "       roc_auc_score(y_test, grid_kfold_shuffle.predict_proba(X_test)[:,1]), '\\n')"
   ]
  },
  {
   "cell_type": "markdown",
   "metadata": {},
   "source": [
    "### 4) Generate feature importance plots and visualise a tree from the forest"
   ]
  },
  {
   "cell_type": "code",
   "execution_count": 72,
   "metadata": {},
   "outputs": [
    {
     "data": {
      "text/plain": [
       "<matplotlib.legend.Legend at 0x7fced9798370>"
      ]
     },
     "execution_count": 72,
     "metadata": {},
     "output_type": "execute_result"
    },
    {
     "data": {
      "image/png": "[encoded data removed]",
      "text/plain": [
       "<Figure size 576x720 with 1 Axes>"
      ]
     },
     "metadata": {},
     "output_type": "display_data"
    }
   ],
   "source": [
    "X_train, X_test, y_train, y_test = train_test_split(data_array, df_lip_assays['Hot_Activity'], random_state=0)\n",
    "\n",
    "accuracy_params = RandomForestClassifier(max_depth=8, n_estimators=50, n_jobs=-1, random_state=0)\n",
    "precision_params = RandomForestClassifier(max_depth=8, n_estimators=100, n_jobs=-1, random_state=0)\n",
    "ROC_AUC_params = RandomForestClassifier(max_depth=8, n_estimators=100, n_jobs=-1, random_state=0)\n",
    "forest_no_params = RandomForestClassifier(random_state=0)\n",
    "accuracy_params.fit(X_train, y_train)\n",
    "precision_params.fit(X_train, y_train)\n",
    "ROC_AUC_params.fit(X_train, y_train)\n",
    "forest_no_params.fit(X_train, y_train)\n",
    "\n",
    "DF = pd.DataFrame({'Default parameters':forest_no_params.feature_importances_,\n",
    "                   'Best Accuracy Parameters':accuracy_params.feature_importances_,\n",
    "                   'Best Average Precision Parameters': precision_params.feature_importances_,\n",
    "                   'Best ROC AUC Parameters': ROC_AUC_params.feature_importances_,\n",
    "                   'n_features':np.arange(data_array.shape[1])})\n",
    "\n",
    "df_melted = DF.melt(\"n_features\",var_name=\"Params\",value_name=\"importance\")\n",
    "\n",
    "sns.set_theme()\n",
    "sns.set(rc={'figure.figsize':(8,10)})\n",
    "sns.set_palette(sns.color_palette('Set2'))\n",
    "x = sns.barplot(data=df_melted, x='importance', y='n_features', hue='Params', orient='h', alpha=1)\n",
    "plt.yticks(DF['n_features'], df_lip_compounds.columns[1:-1])\n",
    "x.set(xlabel='Feature Importance', ylabel='Feature')\n",
    "plt.legend(loc='center right')"
   ]
  },
  {
   "cell_type": "code",
   "execution_count": 84,
   "metadata": {},
   "outputs": [
    {
     "data": {
      "image/svg+xml": "<?xml version=\"1.0\" encoding=\"UTF-8\" standalone=\"no\"?>\n<!DOCTYPE svg PUBLIC \"-//W3C//DTD SVG 1.1//EN\"\n \"http://www.w3.org/Graphics/SVG/1.1/DTD/svg11.dtd\">\n<!-- Generated by graphviz version 2.50.0 (20211204.2007)\n -->\n<!-- Title: Tree Pages: 1 -->\n<svg width=\"661pt\" height=\"477pt\"\n viewBox=\"0.00 0.00 661.00 477.00\" xmlns=\"http://www.w3.org/2000/svg\" xmlns:xlink=\"http://www.w3.org/1999/xlink\">\n<g id=\"graph0\" class=\"graph\" transform=\"scale(1 1) rotate(0) translate(4 473)\">\n<title>Tree</title>\n<polygon fill=\"white\" stroke=\"transparent\" points=\"-4,4 -4,-473 657,-473 657,4 -4,4\"/>\n<!-- 0 -->\n<g id=\"node1\" class=\"node\">\n<title>0</title>\n<polygon fill=\"#fffdfc\" stroke=\"black\" points=\"432,-469 237,-469 237,-401 432,-401 432,-469\"/>\n<text text-anchor=\"middle\" x=\"334.5\" y=\"-453.8\" font-family=\"Helvetica,sans-Serif\" font-size=\"14.00\">Heavy_atom_mw &lt;= 333.602</text>\n<text text-anchor=\"middle\" x=\"334.5\" y=\"-438.8\" font-family=\"Helvetica,sans-Serif\" font-size=\"14.00\">samples = 1146</text>\n<text text-anchor=\"middle\" x=\"334.5\" y=\"-423.8\" font-family=\"Helvetica,sans-Serif\" font-size=\"14.00\">value = [578, 568]</text>\n<text text-anchor=\"middle\" x=\"334.5\" y=\"-408.8\" font-family=\"Helvetica,sans-Serif\" font-size=\"14.00\">class = Active</text>\n</g>\n<!-- 1 -->\n<g id=\"node2\" class=\"node\">\n<title>1</title>\n<polygon fill=\"#9ccef2\" stroke=\"black\" points=\"312,-365 187,-365 187,-297 312,-297 312,-365\"/>\n<text text-anchor=\"middle\" x=\"249.5\" y=\"-349.8\" font-family=\"Helvetica,sans-Serif\" font-size=\"14.00\">LogP &lt;= 3.455</text>\n<text text-anchor=\"middle\" x=\"249.5\" y=\"-334.8\" font-family=\"Helvetica,sans-Serif\" font-size=\"14.00\">samples = 471</text>\n<text text-anchor=\"middle\" x=\"249.5\" y=\"-319.8\" font-family=\"Helvetica,sans-Serif\" font-size=\"14.00\">value = [157, 314]</text>\n<text text-anchor=\"middle\" x=\"249.5\" y=\"-304.8\" font-family=\"Helvetica,sans-Serif\" font-size=\"14.00\">class = Deactive</text>\n</g>\n<!-- 0&#45;&gt;1 -->\n<g id=\"edge1\" class=\"edge\">\n<title>0&#45;&gt;1</title>\n<path fill=\"none\" stroke=\"black\" d=\"M306.9,-400.88C299.55,-392.07 291.53,-382.43 283.86,-373.24\"/>\n<polygon fill=\"black\" stroke=\"black\" points=\"286.34,-370.74 277.25,-365.3 280.96,-375.22 286.34,-370.74\"/>\n<text text-anchor=\"middle\" x=\"274.99\" y=\"-386.5\" font-family=\"Helvetica,sans-Serif\" font-size=\"14.00\">True</text>\n</g>\n<!-- 6 -->\n<g id=\"node7\" class=\"node\">\n<title>6</title>\n<polygon fill=\"#f5cdb0\" stroke=\"black\" points=\"501,-365 340,-365 340,-297 501,-297 501,-365\"/>\n<text text-anchor=\"middle\" x=\"420.5\" y=\"-349.8\" font-family=\"Helvetica,sans-Serif\" font-size=\"14.00\">Rotatable_bonds &lt;= 5.5</text>\n<text text-anchor=\"middle\" x=\"420.5\" y=\"-334.8\" font-family=\"Helvetica,sans-Serif\" font-size=\"14.00\">samples = 675</text>\n<text text-anchor=\"middle\" x=\"420.5\" y=\"-319.8\" font-family=\"Helvetica,sans-Serif\" font-size=\"14.00\">value = [421, 254]</text>\n<text text-anchor=\"middle\" x=\"420.5\" y=\"-304.8\" font-family=\"Helvetica,sans-Serif\" font-size=\"14.00\">class = Active</text>\n</g>\n<!-- 0&#45;&gt;6 -->\n<g id=\"edge6\" class=\"edge\">\n<title>0&#45;&gt;6</title>\n<path fill=\"none\" stroke=\"black\" d=\"M362.42,-400.88C369.93,-391.98 378.14,-382.24 385.97,-372.96\"/>\n<polygon fill=\"black\" stroke=\"black\" points=\"388.65,-375.2 392.42,-365.3 383.3,-370.69 388.65,-375.2\"/>\n<text text-anchor=\"middle\" x=\"394.54\" y=\"-386.51\" font-family=\"Helvetica,sans-Serif\" font-size=\"14.00\">False</text>\n</g>\n<!-- 2 -->\n<g id=\"node3\" class=\"node\">\n<title>2</title>\n<polygon fill=\"#7ebfee\" stroke=\"black\" points=\"176.5,-261 26.5,-261 26.5,-193 176.5,-193 176.5,-261\"/>\n<text text-anchor=\"middle\" x=\"101.5\" y=\"-245.8\" font-family=\"Helvetica,sans-Serif\" font-size=\"14.00\">Heavy_atoms &lt;= 22.5</text>\n<text text-anchor=\"middle\" x=\"101.5\" y=\"-230.8\" font-family=\"Helvetica,sans-Serif\" font-size=\"14.00\">samples = 338</text>\n<text text-anchor=\"middle\" x=\"101.5\" y=\"-215.8\" font-family=\"Helvetica,sans-Serif\" font-size=\"14.00\">value = [87, 251]</text>\n<text text-anchor=\"middle\" x=\"101.5\" y=\"-200.8\" font-family=\"Helvetica,sans-Serif\" font-size=\"14.00\">class = Deactive</text>\n</g>\n<!-- 1&#45;&gt;2 -->\n<g id=\"edge2\" class=\"edge\">\n<title>1&#45;&gt;2</title>\n<path fill=\"none\" stroke=\"black\" d=\"M201.45,-296.88C187.55,-287.3 172.25,-276.76 157.89,-266.86\"/>\n<polygon fill=\"black\" stroke=\"black\" points=\"159.78,-263.92 149.56,-261.12 155.81,-269.68 159.78,-263.92\"/>\n</g>\n<!-- 5 -->\n<g id=\"node6\" class=\"node\">\n<title>5</title>\n<polygon fill=\"#fcf2eb\" stroke=\"black\" points=\"304.5,-253.5 194.5,-253.5 194.5,-200.5 304.5,-200.5 304.5,-253.5\"/>\n<text text-anchor=\"middle\" x=\"249.5\" y=\"-238.3\" font-family=\"Helvetica,sans-Serif\" font-size=\"14.00\">samples = 133</text>\n<text text-anchor=\"middle\" x=\"249.5\" y=\"-223.3\" font-family=\"Helvetica,sans-Serif\" font-size=\"14.00\">value = [70, 63]</text>\n<text text-anchor=\"middle\" x=\"249.5\" y=\"-208.3\" font-family=\"Helvetica,sans-Serif\" font-size=\"14.00\">class = Active</text>\n</g>\n<!-- 1&#45;&gt;5 -->\n<g id=\"edge5\" class=\"edge\">\n<title>1&#45;&gt;5</title>\n<path fill=\"none\" stroke=\"black\" d=\"M249.5,-296.88C249.5,-286.33 249.5,-274.6 249.5,-263.85\"/>\n<polygon fill=\"black\" stroke=\"black\" points=\"253,-263.52 249.5,-253.52 246,-263.52 253,-263.52\"/>\n</g>\n<!-- 3 -->\n<g id=\"node4\" class=\"node\">\n<title>3</title>\n<polygon fill=\"#8cc6f0\" stroke=\"black\" points=\"117,-149.5 0,-149.5 0,-96.5 117,-96.5 117,-149.5\"/>\n<text text-anchor=\"middle\" x=\"58.5\" y=\"-134.3\" font-family=\"Helvetica,sans-Serif\" font-size=\"14.00\">samples = 220</text>\n<text text-anchor=\"middle\" x=\"58.5\" y=\"-119.3\" font-family=\"Helvetica,sans-Serif\" font-size=\"14.00\">value = [65, 155]</text>\n<text text-anchor=\"middle\" x=\"58.5\" y=\"-104.3\" font-family=\"Helvetica,sans-Serif\" font-size=\"14.00\">class = Deactive</text>\n</g>\n<!-- 2&#45;&gt;3 -->\n<g id=\"edge3\" class=\"edge\">\n<title>2&#45;&gt;3</title>\n<path fill=\"none\" stroke=\"black\" d=\"M87.54,-192.88C82.95,-182 77.83,-169.86 73.19,-158.85\"/>\n<polygon fill=\"black\" stroke=\"black\" points=\"76.37,-157.37 69.26,-149.52 69.92,-160.09 76.37,-157.37\"/>\n</g>\n<!-- 4 -->\n<g id=\"node5\" class=\"node\">\n<title>4</title>\n<polygon fill=\"#66b3eb\" stroke=\"black\" points=\"251.5,-149.5 135.5,-149.5 135.5,-96.5 251.5,-96.5 251.5,-149.5\"/>\n<text text-anchor=\"middle\" x=\"193.5\" y=\"-134.3\" font-family=\"Helvetica,sans-Serif\" font-size=\"14.00\">samples = 118</text>\n<text text-anchor=\"middle\" x=\"193.5\" y=\"-119.3\" font-family=\"Helvetica,sans-Serif\" font-size=\"14.00\">value = [22, 96]</text>\n<text text-anchor=\"middle\" x=\"193.5\" y=\"-104.3\" font-family=\"Helvetica,sans-Serif\" font-size=\"14.00\">class = Deactive</text>\n</g>\n<!-- 2&#45;&gt;4 -->\n<g id=\"edge4\" class=\"edge\">\n<title>2&#45;&gt;4</title>\n<path fill=\"none\" stroke=\"black\" d=\"M131.37,-192.88C141.69,-181.45 153.24,-168.63 163.56,-157.19\"/>\n<polygon fill=\"black\" stroke=\"black\" points=\"166.38,-159.29 170.48,-149.52 161.19,-154.6 166.38,-159.29\"/>\n</g>\n<!-- 7 -->\n<g id=\"node8\" class=\"node\">\n<title>7</title>\n<polygon fill=\"#efb083\" stroke=\"black\" points=\"518,-261 323,-261 323,-193 518,-193 518,-261\"/>\n<text text-anchor=\"middle\" x=\"420.5\" y=\"-245.8\" font-family=\"Helvetica,sans-Serif\" font-size=\"14.00\">Heavy_atom_mw &lt;= 367.685</text>\n<text text-anchor=\"middle\" x=\"420.5\" y=\"-230.8\" font-family=\"Helvetica,sans-Serif\" font-size=\"14.00\">samples = 450</text>\n<text text-anchor=\"middle\" x=\"420.5\" y=\"-215.8\" font-family=\"Helvetica,sans-Serif\" font-size=\"14.00\">value = [327, 123]</text>\n<text text-anchor=\"middle\" x=\"420.5\" y=\"-200.8\" font-family=\"Helvetica,sans-Serif\" font-size=\"14.00\">class = Active</text>\n</g>\n<!-- 6&#45;&gt;7 -->\n<g id=\"edge7\" class=\"edge\">\n<title>6&#45;&gt;7</title>\n<path fill=\"none\" stroke=\"black\" d=\"M420.5,-296.88C420.5,-288.78 420.5,-279.98 420.5,-271.47\"/>\n<polygon fill=\"black\" stroke=\"black\" points=\"424,-271.3 420.5,-261.3 417,-271.3 424,-271.3\"/>\n</g>\n<!-- 12 -->\n<g id=\"node13\" class=\"node\">\n<title>12</title>\n<polygon fill=\"#c7e3f8\" stroke=\"black\" points=\"653,-253.5 536,-253.5 536,-200.5 653,-200.5 653,-253.5\"/>\n<text text-anchor=\"middle\" x=\"594.5\" y=\"-238.3\" font-family=\"Helvetica,sans-Serif\" font-size=\"14.00\">samples = 225</text>\n<text text-anchor=\"middle\" x=\"594.5\" y=\"-223.3\" font-family=\"Helvetica,sans-Serif\" font-size=\"14.00\">value = [94, 131]</text>\n<text text-anchor=\"middle\" x=\"594.5\" y=\"-208.3\" font-family=\"Helvetica,sans-Serif\" font-size=\"14.00\">class = Deactive</text>\n</g>\n<!-- 6&#45;&gt;12 -->\n<g id=\"edge12\" class=\"edge\">\n<title>6&#45;&gt;12</title>\n<path fill=\"none\" stroke=\"black\" d=\"M476.99,-296.88C497.91,-284.62 521.52,-270.78 542.07,-258.74\"/>\n<polygon fill=\"black\" stroke=\"black\" points=\"544.11,-261.6 550.97,-253.52 540.57,-255.56 544.11,-261.6\"/>\n</g>\n<!-- 8 -->\n<g id=\"node9\" class=\"node\">\n<title>8</title>\n<polygon fill=\"#f9e1cf\" stroke=\"black\" points=\"433,-149.5 316,-149.5 316,-96.5 433,-96.5 433,-149.5\"/>\n<text text-anchor=\"middle\" x=\"374.5\" y=\"-134.3\" font-family=\"Helvetica,sans-Serif\" font-size=\"14.00\">samples = 190</text>\n<text text-anchor=\"middle\" x=\"374.5\" y=\"-119.3\" font-family=\"Helvetica,sans-Serif\" font-size=\"14.00\">value = [108, 82]</text>\n<text text-anchor=\"middle\" x=\"374.5\" y=\"-104.3\" font-family=\"Helvetica,sans-Serif\" font-size=\"14.00\">class = Active</text>\n</g>\n<!-- 7&#45;&gt;8 -->\n<g id=\"edge8\" class=\"edge\">\n<title>7&#45;&gt;8</title>\n<path fill=\"none\" stroke=\"black\" d=\"M405.57,-192.88C400.65,-182 395.18,-169.86 390.22,-158.85\"/>\n<polygon fill=\"black\" stroke=\"black\" points=\"393.31,-157.2 386.01,-149.52 386.93,-160.07 393.31,-157.2\"/>\n</g>\n<!-- 9 -->\n<g id=\"node10\" class=\"node\">\n<title>9</title>\n<polygon fill=\"#ea995e\" stroke=\"black\" points=\"568,-157 451,-157 451,-89 568,-89 568,-157\"/>\n<text text-anchor=\"middle\" x=\"509.5\" y=\"-141.8\" font-family=\"Helvetica,sans-Serif\" font-size=\"14.00\">MW &lt;= 432.082</text>\n<text text-anchor=\"middle\" x=\"509.5\" y=\"-126.8\" font-family=\"Helvetica,sans-Serif\" font-size=\"14.00\">samples = 260</text>\n<text text-anchor=\"middle\" x=\"509.5\" y=\"-111.8\" font-family=\"Helvetica,sans-Serif\" font-size=\"14.00\">value = [219, 41]</text>\n<text text-anchor=\"middle\" x=\"509.5\" y=\"-96.8\" font-family=\"Helvetica,sans-Serif\" font-size=\"14.00\">class = Active</text>\n</g>\n<!-- 7&#45;&gt;9 -->\n<g id=\"edge9\" class=\"edge\">\n<title>7&#45;&gt;9</title>\n<path fill=\"none\" stroke=\"black\" d=\"M449.4,-192.88C457.17,-183.98 465.67,-174.24 473.76,-164.96\"/>\n<polygon fill=\"black\" stroke=\"black\" points=\"476.51,-167.14 480.44,-157.3 471.23,-162.53 476.51,-167.14\"/>\n</g>\n<!-- 10 -->\n<g id=\"node11\" class=\"node\">\n<title>10</title>\n<polygon fill=\"#eda673\" stroke=\"black\" points=\"498.5,-53 388.5,-53 388.5,0 498.5,0 498.5,-53\"/>\n<text text-anchor=\"middle\" x=\"443.5\" y=\"-37.8\" font-family=\"Helvetica,sans-Serif\" font-size=\"14.00\">samples = 123</text>\n<text text-anchor=\"middle\" x=\"443.5\" y=\"-22.8\" font-family=\"Helvetica,sans-Serif\" font-size=\"14.00\">value = [95, 28]</text>\n<text text-anchor=\"middle\" x=\"443.5\" y=\"-7.8\" font-family=\"Helvetica,sans-Serif\" font-size=\"14.00\">class = Active</text>\n</g>\n<!-- 9&#45;&gt;10 -->\n<g id=\"edge10\" class=\"edge\">\n<title>9&#45;&gt;10</title>\n<path fill=\"none\" stroke=\"black\" d=\"M486.42,-88.95C480.22,-80.07 473.51,-70.46 467.27,-61.54\"/>\n<polygon fill=\"black\" stroke=\"black\" points=\"470.07,-59.43 461.47,-53.24 464.33,-63.44 470.07,-59.43\"/>\n</g>\n<!-- 11 -->\n<g id=\"node12\" class=\"node\">\n<title>11</title>\n<polygon fill=\"#e88e4e\" stroke=\"black\" points=\"634,-53 517,-53 517,0 634,0 634,-53\"/>\n<text text-anchor=\"middle\" x=\"575.5\" y=\"-37.8\" font-family=\"Helvetica,sans-Serif\" font-size=\"14.00\">samples = 137</text>\n<text text-anchor=\"middle\" x=\"575.5\" y=\"-22.8\" font-family=\"Helvetica,sans-Serif\" font-size=\"14.00\">value = [124, 13]</text>\n<text text-anchor=\"middle\" x=\"575.5\" y=\"-7.8\" font-family=\"Helvetica,sans-Serif\" font-size=\"14.00\">class = Active</text>\n</g>\n<!-- 9&#45;&gt;11 -->\n<g id=\"edge11\" class=\"edge\">\n<title>9&#45;&gt;11</title>\n<path fill=\"none\" stroke=\"black\" d=\"M532.58,-88.95C538.78,-80.07 545.49,-70.46 551.73,-61.54\"/>\n<polygon fill=\"black\" stroke=\"black\" points=\"554.67,-63.44 557.53,-53.24 548.93,-59.43 554.67,-63.44\"/>\n</g>\n</g>\n</svg>\n",
      "text/plain": [
       "<graphviz.sources.Source at 0x7fce78660cd0>"
      ]
     },
     "metadata": {},
     "output_type": "display_data"
    }
   ],
   "source": [
    "estimator = accuracy_params.estimators_[30]\n",
    "\n",
    "export_graphviz(tree, out_file=\"tree.dot\", class_names=['Active', 'Deactive'],\n",
    "    feature_names=df_lip_compounds.columns[1:-1], impurity=False, filled=True)\n",
    "\n",
    "with open('tree.dot') as f:\n",
    "    dot_graph = f.read()\n",
    "display(graphviz.Source(dot_graph))\n"
   ]
  },
  {
   "cell_type": "code",
   "execution_count": null,
   "metadata": {},
   "outputs": [],
   "source": []
  },
  {
   "cell_type": "markdown",
   "metadata": {},
   "source": [
    "### 5) Generate precision-recall curve with best parameters for average precision"
   ]
  },
  {
   "cell_type": "code",
   "execution_count": 75,
   "metadata": {},
   "outputs": [
    {
     "data": {
      "text/plain": [
       "<matplotlib.legend.Legend at 0x7fcebcd04fd0>"
      ]
     },
     "execution_count": 75,
     "metadata": {},
     "output_type": "execute_result"
    },
    {
     "data": {
      "image/png": "[encoded data removed]",
      "text/plain": [
       "<Figure size 576x720 with 1 Axes>"
      ]
     },
     "metadata": {},
     "output_type": "display_data"
    }
   ],
   "source": [
    "#precision recall curve for best average precision estimator\n",
    "\n",
    "X_train, X_test, y_train, y_test = train_test_split(data_array, df_lip_assays['Hot_Activity'], random_state=0)\n",
    "forest = RandomForestClassifier(max_depth=8, n_estimators=100, random_state=0)\n",
    "forest.fit(X_train, y_train)\n",
    "\n",
    "precision, recall, thresholds = precision_recall_curve(y_test, forest.predict_proba(X_test)[:, 1])\n",
    "\n",
    "plt.plot(precision, recall, label='tree')\n",
    "close_default = np.argmin(np.abs(thresholds - 0.5))\n",
    "plt.plot(precision[close_default], recall[close_default], '^', c='k', \n",
    "          markersize=10, label='threshold 0.5 ', fillstyle='none', mew=2)\n",
    "plt.xlabel('precision')\n",
    "plt.ylabel('recall')\n",
    "plt.title('Precision-recall curve for decision tree')\n",
    "plt.legend(loc='best')"
   ]
  },
  {
   "cell_type": "markdown",
   "metadata": {},
   "source": [
    "### 6) Generate ROC curve with best parameters for ROC AUC"
   ]
  },
  {
   "cell_type": "code",
   "execution_count": 76,
   "metadata": {},
   "outputs": [
    {
     "data": {
      "text/plain": [
       "Text(0.5, 1.0, 'ROC curve for random forest')"
      ]
     },
     "execution_count": 76,
     "metadata": {},
     "output_type": "execute_result"
    },
    {
     "data": {
      "image/png": "[encoded data removed]",
      "text/plain": [
       "<Figure size 576x720 with 1 Axes>"
      ]
     },
     "metadata": {},
     "output_type": "display_data"
    }
   ],
   "source": [
    "forest = RandomForestClassifier(max_depth=8, n_estimators=100, random_state=0)\n",
    "forest.fit(X_train, y_train)\n",
    "\n",
    "fpr, tpr, thresholds = roc_curve(y_test, forest.predict_proba(X_test)[:, 1])\n",
    "\n",
    "plt.plot(fpr, tpr, label='ROC curve forest')\n",
    "plt.xlabel('FPR')\n",
    "plt.ylabel('TPR(recall)')\n",
    "close_default = np.argmin(np.abs(thresholds - 0.5))\n",
    "plt.plot(fpr[close_default], tpr[close_default], '^', markersize=10, label='threshold 0.5', \n",
    "         fillstyle='none', c='k', mew=2)\n",
    "plt.legend(loc=4)\n",
    "plt.title('ROC curve for random forest')"
   ]
  },
  {
   "cell_type": "markdown",
   "metadata": {},
   "source": [
    "### 7) Generate confusion matrix with best parameters for average precision and ROC AUC\n"
   ]
  },
  {
   "cell_type": "code",
   "execution_count": 77,
   "metadata": {},
   "outputs": [
    {
     "name": "stdout",
     "output_type": "stream",
     "text": [
      "Precision:  0.7428571428571429\n",
      "Sensitivity:  0.7182320441988951\n",
      "Specificity:  0.7761194029850746\n",
      "FPR : 0.22388059701492535\n",
      "very major error : 22.388059701492537\n",
      "major error:  28.176795580110497\n",
      "\n",
      " confusion matrix: \n",
      " [[156  45]\n",
      " [ 51 130]]\n"
     ]
    }
   ],
   "source": [
    "\n",
    "X_train, X_test, y_train, y_test = train_test_split(data_array, df_lip_assays['Hot_Activity'], random_state=0)\n",
    "forest = RandomForestClassifier(max_depth=8, n_estimators=100, random_state=0)\n",
    "forest.fit(X_train, y_train)\n",
    "predict = forest.predict(X_test).astype(int)\n",
    "\n",
    "#generate confusion matrix\n",
    "confusion = confusion_matrix(y_test, predict)\n",
    "\n",
    "#calculate precision, sensitivity, specficity, FPR, errors\n",
    "Precision = (confusion[1][1])/(confusion[1][1]+confusion[0][1])\n",
    "Sensitivity = (confusion[1][1])/(confusion[1][1]+confusion[1][0])\n",
    "Specificity = (confusion[0][0])/(confusion[0][0]+confusion[0][1])\n",
    "FPR = 1-Specificity\n",
    "very_major_error = (confusion[0][1]/y_test[y_test==0].count())*100\n",
    "major_error = (confusion[1][0]/y_test[y_test==1].count())*100\n",
    "\n",
    "\n",
    "print ('Precision: ', Precision)\n",
    "print ('Sensitivity: ', Sensitivity)\n",
    "print ('Specificity: ', Specificity)\n",
    "print ('FPR :', FPR)\n",
    "print ('very major error :', very_major_error)\n",
    "print ('major error: ', major_error)\n",
    "print ('\\n confusion matrix: \\n', confusion)"
   ]
  },
  {
   "cell_type": "code",
   "execution_count": 78,
   "metadata": {},
   "outputs": [
    {
     "data": {
      "image/png": "[encoded data removed]",
      "text/plain": [
       "<Figure size 468x360 with 2 Axes>"
      ]
     },
     "metadata": {},
     "output_type": "display_data"
    }
   ],
   "source": [
    "sns.set_style({'font.family':'sans-serif', 'font.sans-serif':'Helvetica'})\n",
    "\n",
    "group_names = ['True Neg','False Pos','Falsje Neg','True Pos']\n",
    "group_counts = [\"{0:0.0f}\".format(value) for value in\n",
    "                confusion.flatten()]\n",
    "group_percentages = [\"{0:.2%}\".format(value) for value in\n",
    "                     confusion.flatten()/np.sum(confusion)]\n",
    "labels = [f\"{v1}\\n{v2}\\n{v3}\" for v1, v2, v3 in\n",
    "          zip(group_names,group_counts,group_percentages)]\n",
    "labels = np.asarray(labels).reshape(2,2)\n",
    "plt.figure(figsize = (6.5,5))\n",
    "sns.heatmap(confusion, annot=labels, fmt='', cmap='Blues')\n",
    "plt.savefig('forest_binary_cf.png', bbox_inches='tight')"
   ]
  },
  {
   "cell_type": "code",
   "execution_count": null,
   "metadata": {},
   "outputs": [],
   "source": []
  }
 ],
 "metadata": {
  "celltoolbar": "Slideshow",
  "interpreter": {
   "hash": "a1d81e77190aaf51edd4717b53a34c41e7d1c4ce058cf52c2648b522279c6043"
  },
  "kernelspec": {
   "display_name": "Python 3 (ipykernel)",
   "language": "python",
   "name": "python3"
  },
  "language_info": {
   "codemirror_mode": {
    "name": "ipython",
    "version": 3
   },
   "file_extension": ".py",
   "mimetype": "text/x-python",
   "name": "python",
   "nbconvert_exporter": "python",
   "pygments_lexer": "ipython3",
   "version": "3.9.7"
  }
 },
 "nbformat": 4,
 "nbformat_minor": 2
}
